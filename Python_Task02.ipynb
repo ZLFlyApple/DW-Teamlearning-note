{
 "cells": [
  {
   "cell_type": "markdown",
   "metadata": {},
   "source": [
    "## 条件、循环语句\n",
    "### 笔记\n",
    "1. assert。这个关键词我们称之为“断言”，当这个关键词后边的条件为 False 时，程序自动崩溃并抛出AssertionError的异常。用于程序单元测试。\n",
    "2. while - else、for - else，循环正常执行完的情况下，执行else输出。\n",
    "3. enumerate。用 enumerate(A) 不仅返回了 A 中的元素，还顺便给该元素一个索引值 (默认从 0 开始)。此外，用 enumerate(A, j) 还可以确定索引起始值为 j\n",
    "- 推导式[ expr for value in collection [if condition] ]。  \n",
    "Exp a = [(i, j, k) for i in range(0, 3) if i < 1 for j in range(0, 3) if j > 1 for k in range(0, 3) if k > 1]\n",
    "\n",
    "### 练习题：\n",
    "1. 编写一个Python程序来查找那些既可以被7整除又可以被5整除的数字，介于1500和2700之间。"
   ]
  },
  {
   "cell_type": "code",
   "execution_count": 4,
   "metadata": {},
   "outputs": [
    {
     "data": {
      "text/plain": [
       "[1505,\n",
       " 1540,\n",
       " 1575,\n",
       " 1610,\n",
       " 1645,\n",
       " 1680,\n",
       " 1715,\n",
       " 1750,\n",
       " 1785,\n",
       " 1820,\n",
       " 1855,\n",
       " 1890,\n",
       " 1925,\n",
       " 1960,\n",
       " 1995,\n",
       " 2030,\n",
       " 2065,\n",
       " 2100,\n",
       " 2135,\n",
       " 2170,\n",
       " 2205,\n",
       " 2240,\n",
       " 2275,\n",
       " 2310,\n",
       " 2345,\n",
       " 2380,\n",
       " 2415,\n",
       " 2450,\n",
       " 2485,\n",
       " 2520,\n",
       " 2555,\n",
       " 2590,\n",
       " 2625,\n",
       " 2660,\n",
       " 2695]"
      ]
     },
     "execution_count": 4,
     "metadata": {},
     "output_type": "execute_result"
    }
   ],
   "source": [
    "[i for i in range(1500,2700+1) if i%7==0 and i%5==0]"
   ]
  },
  {
   "cell_type": "markdown",
   "metadata": {},
   "source": [
    "2. 龟兔赛跑游戏\n",
    "\n",
    "题目描述：\n",
    "\n",
    "话说这个世界上有各种各样的兔子和乌龟，但是研究发现，所有的兔子和乌龟都有一个共同的特点——喜欢赛跑。于是世界上各个角落都不断在发生着乌龟和兔子的比赛，小华对此很感兴趣，于是决定研究不同兔 子和乌龟的赛跑。他发现，兔子虽然跑比乌龟快，但它们有众所周知的毛病——骄傲且懒惰，于是在与乌龟的比赛中，一旦任一秒结束后兔子发现自己领先t米或以 上，它们就会停下来休息s秒。对于不同的兔子，t，s的数值是不同的，但是所有的乌龟却是一致——它们不到终点决不停止。\n",
    "\n",
    "然而有些比赛相当漫长，全程观看会耗费大量时间，而小华发现只要在每场比赛开始后记录下兔子和乌龟的数据——兔子的速度v1（表示每秒兔子能跑v1 米），乌龟的速度v2，以及兔子对应的t，s值，以及赛道的长度l——就能预测出比赛的结果。但是小华很懒，不想通过手工计算推测出比赛的结果，于是他找 到了你——清华大学计算机系的高才生——请求帮助，请你写一个程序，对于输入的一场比赛的数据v1，v2，t，s，l，预测该场比赛的结果。\n",
    "\n",
    "输入:\n",
    "\n",
    "输入只有一行，包含用空格隔开的五个正整数v1，v2，t，s，l，其中(v1,v2< =100;t< =300;s< =10;l< =10000且为v1,v2的公倍数)\n",
    "\n",
    "输出:\n",
    "\n",
    "输出包含两行，第一行输出比赛结果——一个大写字母“T”或“R”或“D”，分别表示乌龟获胜，兔子获胜，或者两者同时到达终点。\n",
    "\n",
    "第二行输出一个正整数，表示获胜者（或者双方同时）到达终点所耗费的时间（秒数）。\n",
    "\n",
    "样例输入：\n",
    "\n",
    "10 5 5 2 20\n",
    "\n",
    "样例输出\n",
    "\n",
    "D\n",
    "4"
   ]
  },
  {
   "cell_type": "code",
   "execution_count": 22,
   "metadata": {},
   "outputs": [
    {
     "name": "stdout",
     "output_type": "stream",
     "text": [
      "100 8 1\n",
      "100 48 6\n",
      "100 88 11\n",
      "100 128 16\n",
      "200 136 17\n",
      "200 176 22\n",
      "200 216 27\n",
      "300 224 28\n",
      "300 264 33\n",
      "300 304 38\n",
      "400 312 39\n",
      "400 352 44\n",
      "400 392 49\n",
      "400 432 54\n",
      "500 440 55\n",
      "500 480 60\n",
      "500 520 65\n",
      "600 528 66\n",
      "600 568 71\n",
      "600 608 76\n",
      "700 616 77\n",
      "700 656 82\n",
      "700 696 87\n",
      "800 704 88\n",
      "800 744 93\n",
      "800 784 98\n",
      "800 824 103\n",
      "900 832 104\n",
      "900 872 109\n",
      "900 912 114\n",
      "1000 920 115\n",
      "R\n",
      "115\n"
     ]
    }
   ],
   "source": [
    "#龟兔赛跑(v1,v2< =100;t< =300;s< =10;l< =10000且为v1,v2的公倍数)\n",
    "def race(v1,v2,t,s,l):\n",
    "    T = 0\n",
    "    R = 0\n",
    "    sec = 0\n",
    "    while(R<l and T<l):\n",
    "        if R-T<t:\n",
    "            R += v1;T += v2\n",
    "            sec+=1\n",
    "        else:\n",
    "            for i in range(s):\n",
    "                T += v2;sec+=1\n",
    "                if T>=l:break\n",
    "        print(R,T,sec)\n",
    "    if R>=l:\n",
    "        print('R',sec, sep='\\n')\n",
    "    if T>=l:\n",
    "        print('T',sec, sep='\\n')\n",
    "        \n",
    "race(100,8,5,5,1000)"
   ]
  },
  {
   "cell_type": "code",
   "execution_count": null,
   "metadata": {},
   "outputs": [],
   "source": []
  }
 ],
 "metadata": {
  "kernelspec": {
   "display_name": "Python 3",
   "language": "python",
   "name": "python3"
  },
  "language_info": {
   "codemirror_mode": {
    "name": "ipython",
    "version": 3
   },
   "file_extension": ".py",
   "mimetype": "text/x-python",
   "name": "python",
   "nbconvert_exporter": "python",
   "pygments_lexer": "ipython3",
   "version": "3.7.6"
  },
  "toc": {
   "base_numbering": 1,
   "nav_menu": {},
   "number_sections": true,
   "sideBar": true,
   "skip_h1_title": false,
   "title_cell": "Table of Contents",
   "title_sidebar": "Contents",
   "toc_cell": false,
   "toc_position": {},
   "toc_section_display": true,
   "toc_window_display": false
  }
 },
 "nbformat": 4,
 "nbformat_minor": 4
}
