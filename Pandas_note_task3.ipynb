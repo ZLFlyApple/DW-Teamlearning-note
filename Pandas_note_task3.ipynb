{
 "cells": [
  {
   "cell_type": "markdown",
   "metadata": {},
   "source": [
    "# 第3章 分组"
   ]
  },
  {
   "cell_type": "markdown",
   "metadata": {},
   "source": [
    "## 五、问题与练习"
   ]
  },
  {
   "cell_type": "code",
   "execution_count": 1,
   "metadata": {},
   "outputs": [
    {
     "data": {
      "text/html": [
       "<div>\n",
       "<style scoped>\n",
       "    .dataframe tbody tr th:only-of-type {\n",
       "        vertical-align: middle;\n",
       "    }\n",
       "\n",
       "    .dataframe tbody tr th {\n",
       "        vertical-align: top;\n",
       "    }\n",
       "\n",
       "    .dataframe thead th {\n",
       "        text-align: right;\n",
       "    }\n",
       "</style>\n",
       "<table border=\"1\" class=\"dataframe\">\n",
       "  <thead>\n",
       "    <tr style=\"text-align: right;\">\n",
       "      <th></th>\n",
       "      <th>School</th>\n",
       "      <th>Class</th>\n",
       "      <th>Gender</th>\n",
       "      <th>Address</th>\n",
       "      <th>Height</th>\n",
       "      <th>Weight</th>\n",
       "      <th>Math</th>\n",
       "      <th>Physics</th>\n",
       "    </tr>\n",
       "    <tr>\n",
       "      <th>ID</th>\n",
       "      <th></th>\n",
       "      <th></th>\n",
       "      <th></th>\n",
       "      <th></th>\n",
       "      <th></th>\n",
       "      <th></th>\n",
       "      <th></th>\n",
       "      <th></th>\n",
       "    </tr>\n",
       "  </thead>\n",
       "  <tbody>\n",
       "    <tr>\n",
       "      <th>1101</th>\n",
       "      <td>S_1</td>\n",
       "      <td>C_1</td>\n",
       "      <td>M</td>\n",
       "      <td>street_1</td>\n",
       "      <td>173</td>\n",
       "      <td>63</td>\n",
       "      <td>34.0</td>\n",
       "      <td>A+</td>\n",
       "    </tr>\n",
       "    <tr>\n",
       "      <th>1102</th>\n",
       "      <td>S_1</td>\n",
       "      <td>C_1</td>\n",
       "      <td>F</td>\n",
       "      <td>street_2</td>\n",
       "      <td>192</td>\n",
       "      <td>73</td>\n",
       "      <td>32.5</td>\n",
       "      <td>B+</td>\n",
       "    </tr>\n",
       "    <tr>\n",
       "      <th>1103</th>\n",
       "      <td>S_1</td>\n",
       "      <td>C_1</td>\n",
       "      <td>M</td>\n",
       "      <td>street_2</td>\n",
       "      <td>186</td>\n",
       "      <td>82</td>\n",
       "      <td>87.2</td>\n",
       "      <td>B+</td>\n",
       "    </tr>\n",
       "    <tr>\n",
       "      <th>1104</th>\n",
       "      <td>S_1</td>\n",
       "      <td>C_1</td>\n",
       "      <td>F</td>\n",
       "      <td>street_2</td>\n",
       "      <td>167</td>\n",
       "      <td>81</td>\n",
       "      <td>80.4</td>\n",
       "      <td>B-</td>\n",
       "    </tr>\n",
       "    <tr>\n",
       "      <th>1105</th>\n",
       "      <td>S_1</td>\n",
       "      <td>C_1</td>\n",
       "      <td>F</td>\n",
       "      <td>street_4</td>\n",
       "      <td>159</td>\n",
       "      <td>64</td>\n",
       "      <td>84.8</td>\n",
       "      <td>B+</td>\n",
       "    </tr>\n",
       "  </tbody>\n",
       "</table>\n",
       "</div>"
      ],
      "text/plain": [
       "     School Class Gender   Address  Height  Weight  Math Physics\n",
       "ID                                                              \n",
       "1101    S_1   C_1      M  street_1     173      63  34.0      A+\n",
       "1102    S_1   C_1      F  street_2     192      73  32.5      B+\n",
       "1103    S_1   C_1      M  street_2     186      82  87.2      B+\n",
       "1104    S_1   C_1      F  street_2     167      81  80.4      B-\n",
       "1105    S_1   C_1      F  street_4     159      64  84.8      B+"
      ]
     },
     "execution_count": 1,
     "metadata": {},
     "output_type": "execute_result"
    }
   ],
   "source": [
    "import numpy as np\n",
    "import pandas as pd\n",
    "df = pd.read_csv('data/table.csv',index_col='ID')\n",
    "df.head()"
   ]
  },
  {
   "cell_type": "markdown",
   "metadata": {},
   "source": [
    "### 1. 问题"
   ]
  },
  {
   "cell_type": "markdown",
   "metadata": {},
   "source": [
    "#### 【问题一】 什么是fillna的前向/后向填充，如何实现？"
   ]
  },
  {
   "cell_type": "code",
   "execution_count": 2,
   "metadata": {},
   "outputs": [
    {
     "data": {
      "text/html": [
       "<div>\n",
       "<style scoped>\n",
       "    .dataframe tbody tr th:only-of-type {\n",
       "        vertical-align: middle;\n",
       "    }\n",
       "\n",
       "    .dataframe tbody tr th {\n",
       "        vertical-align: top;\n",
       "    }\n",
       "\n",
       "    .dataframe thead th {\n",
       "        text-align: right;\n",
       "    }\n",
       "</style>\n",
       "<table border=\"1\" class=\"dataframe\">\n",
       "  <thead>\n",
       "    <tr style=\"text-align: right;\">\n",
       "      <th></th>\n",
       "      <th>ID</th>\n",
       "      <th>Math</th>\n",
       "    </tr>\n",
       "  </thead>\n",
       "  <tbody>\n",
       "    <tr>\n",
       "      <th>0</th>\n",
       "      <td>1101</td>\n",
       "      <td>34.0</td>\n",
       "    </tr>\n",
       "    <tr>\n",
       "      <th>1</th>\n",
       "      <td>1102</td>\n",
       "      <td>32.5</td>\n",
       "    </tr>\n",
       "    <tr>\n",
       "      <th>2</th>\n",
       "      <td>1103</td>\n",
       "      <td>NaN</td>\n",
       "    </tr>\n",
       "    <tr>\n",
       "      <th>3</th>\n",
       "      <td>1104</td>\n",
       "      <td>80.4</td>\n",
       "    </tr>\n",
       "    <tr>\n",
       "      <th>4</th>\n",
       "      <td>1105</td>\n",
       "      <td>84.8</td>\n",
       "    </tr>\n",
       "  </tbody>\n",
       "</table>\n",
       "</div>"
      ],
      "text/plain": [
       "     ID  Math\n",
       "0  1101  34.0\n",
       "1  1102  32.5\n",
       "2  1103   NaN\n",
       "3  1104  80.4\n",
       "4  1105  84.8"
      ]
     },
     "execution_count": 2,
     "metadata": {},
     "output_type": "execute_result"
    }
   ],
   "source": [
    "#产生数据\n",
    "df_nan = df[['Math']].copy().reset_index().head()\n",
    "df_nan.loc[2,['Math']]=np.nan\n",
    "df_nan"
   ]
  },
  {
   "cell_type": "code",
   "execution_count": 3,
   "metadata": {},
   "outputs": [
    {
     "name": "stdout",
     "output_type": "stream",
     "text": [
      "ffile:\n",
      "      ID  Math\n",
      "0  1101  34.0\n",
      "1  1102  32.5\n",
      "2  1103  32.5\n",
      "3  1104  80.4\n",
      "4  1105  84.8\n",
      "bfile:\n",
      "      ID  Math\n",
      "0  1101  34.0\n",
      "1  1102  32.5\n",
      "2  1103  80.4\n",
      "3  1104  80.4\n",
      "4  1105  84.8\n"
     ]
    }
   ],
   "source": [
    "#填充测试\n",
    "print('ffile:\\n',df_nan.fillna(method = 'ffill'))#前向填充，用NaN之前的最近非空值填充\n",
    "print('bfile:\\n',df_nan.fillna(method = 'bfill'))#后向填充，用NaN之后的最近非空值填充"
   ]
  },
  {
   "cell_type": "markdown",
   "metadata": {},
   "source": [
    "#### 【问题二】 下面的代码实现了什么功能？请仿照设计一个它的groupby版本。\n",
    "- 代码功能：对【0、1】Series列中连续非0位计数。"
   ]
  },
  {
   "cell_type": "code",
   "execution_count": 4,
   "metadata": {},
   "outputs": [],
   "source": [
    "s = pd.Series ([0, 1, 1, 0, 1, 1, 1,0 ])\n",
    "s1 = s.cumsum()#累加和\n",
    "result = s.mul(s1).diff().where(lambda x: x < 0).ffill().add(s1,fill_value =0)"
   ]
  },
  {
   "cell_type": "code",
   "execution_count": 6,
   "metadata": {},
   "outputs": [
    {
     "name": "stdout",
     "output_type": "stream",
     "text": [
      "0    0\n",
      "1    1\n",
      "2    2\n",
      "3    0\n",
      "4    1\n",
      "5    2\n",
      "6    3\n",
      "7    0\n",
      "dtype: int64\n"
     ]
    }
   ],
   "source": [
    "#groupby版本\n",
    "for num in s.groupby(s).get_group(0).index:\n",
    "    s1[num:] -= s1[num]\n",
    "print(s1)"
   ]
  },
  {
   "cell_type": "markdown",
   "metadata": {},
   "source": [
    "#### 【问题三】 如何计算组内0.25分位数与0.75分位数？要求显示在同一张表上。\n"
   ]
  },
  {
   "cell_type": "code",
   "execution_count": 7,
   "metadata": {},
   "outputs": [
    {
     "data": {
      "text/plain": [
       "School    \n",
       "S_1     Q1    41.850\n",
       "        Q3    85.000\n",
       "S_2     Q1    47.500\n",
       "        Q3    72.225\n",
       "Name: Math, dtype: float64"
      ]
     },
     "execution_count": 7,
     "metadata": {},
     "output_type": "execute_result"
    }
   ],
   "source": [
    "# 1、使用OrderedDict\n",
    "from collections import OrderedDict\n",
    "def f(df):\n",
    "    data = OrderedDict()\n",
    "    data['Q1'] = df.quantile(0.25)\n",
    "    data['Q3'] = df.quantile(0.75)\n",
    "    return pd.Series(data)\n",
    "(df.groupby('School')['Math'].apply(f))"
   ]
  },
  {
   "cell_type": "code",
   "execution_count": 8,
   "metadata": {},
   "outputs": [
    {
     "data": {
      "text/plain": [
       "School\n",
       "S_1                (41.85, 85.0)\n",
       "S_2    (47.5, 72.22500000000001)\n",
       "Name: Math, dtype: object"
      ]
     },
     "execution_count": 8,
     "metadata": {},
     "output_type": "execute_result"
    }
   ],
   "source": [
    "# 2、agg方法\n",
    "def f(s,Q1,Q2):\n",
    "    return s.quantile(Q1),s.quantile(Q2)\n",
    "df.groupby('School')['Math'].agg(f,0.25,0.75)"
   ]
  },
  {
   "cell_type": "markdown",
   "metadata": {},
   "source": [
    "#### 【问题四】 既然索引已经能够选出某些符合条件的子集，那么filter函数的设计有什么意义？\n",
    "- filter具有筛选的整体性，用来筛选某些特定组。当且仅当该组所有数据都满足filter条件时整组保留。 \n",
    "- 索引选出的子集是由满足条件的单条数据组成。"
   ]
  },
  {
   "cell_type": "markdown",
   "metadata": {},
   "source": [
    "#### 【问题五】 整合、变换、过滤三者在输入输出和功能上有何异同？\n",
    "- 聚合（Aggregation）标量，按组聚合成标量，支持自定义函数及lambda，可以利用NamedAgg进行多个函数聚合，带参数时使用wrap。\n",
    "- 过滤（Filteration）矩阵，筛选某些符合条件组\n",
    "- 变换（Transformation）向量，对组内的列进行统一处理，标量结果广播全组\n",
    "\n",
    "#### 【问题六】 在带参数的多函数聚合时，有办法能够绕过wrap技巧实现同样功能吗？\n",
    "- 可以，把需要聚合的函数f1\\f2\\f3...包装为一个函数f，参数通过f传入，return f1,f2,...，是多函数结果的元组"
   ]
  },
  {
   "cell_type": "markdown",
   "metadata": {},
   "source": [
    "### 2. 练习\n",
    "#### 【练习一】： 现有一份关于diamonds的数据集，列分别记录了克拉数、颜色、开采深度、价格，请解决下列问题："
   ]
  },
  {
   "cell_type": "code",
   "execution_count": 9,
   "metadata": {},
   "outputs": [
    {
     "data": {
      "text/html": [
       "<div>\n",
       "<style scoped>\n",
       "    .dataframe tbody tr th:only-of-type {\n",
       "        vertical-align: middle;\n",
       "    }\n",
       "\n",
       "    .dataframe tbody tr th {\n",
       "        vertical-align: top;\n",
       "    }\n",
       "\n",
       "    .dataframe thead th {\n",
       "        text-align: right;\n",
       "    }\n",
       "</style>\n",
       "<table border=\"1\" class=\"dataframe\">\n",
       "  <thead>\n",
       "    <tr style=\"text-align: right;\">\n",
       "      <th></th>\n",
       "      <th>carat</th>\n",
       "      <th>color</th>\n",
       "      <th>depth</th>\n",
       "      <th>price</th>\n",
       "    </tr>\n",
       "  </thead>\n",
       "  <tbody>\n",
       "    <tr>\n",
       "      <th>0</th>\n",
       "      <td>0.23</td>\n",
       "      <td>E</td>\n",
       "      <td>61.5</td>\n",
       "      <td>326</td>\n",
       "    </tr>\n",
       "    <tr>\n",
       "      <th>1</th>\n",
       "      <td>0.21</td>\n",
       "      <td>E</td>\n",
       "      <td>59.8</td>\n",
       "      <td>326</td>\n",
       "    </tr>\n",
       "    <tr>\n",
       "      <th>2</th>\n",
       "      <td>0.23</td>\n",
       "      <td>E</td>\n",
       "      <td>56.9</td>\n",
       "      <td>327</td>\n",
       "    </tr>\n",
       "    <tr>\n",
       "      <th>3</th>\n",
       "      <td>0.29</td>\n",
       "      <td>I</td>\n",
       "      <td>62.4</td>\n",
       "      <td>334</td>\n",
       "    </tr>\n",
       "    <tr>\n",
       "      <th>4</th>\n",
       "      <td>0.31</td>\n",
       "      <td>J</td>\n",
       "      <td>63.3</td>\n",
       "      <td>335</td>\n",
       "    </tr>\n",
       "  </tbody>\n",
       "</table>\n",
       "</div>"
      ],
      "text/plain": [
       "   carat color  depth  price\n",
       "0   0.23     E   61.5    326\n",
       "1   0.21     E   59.8    326\n",
       "2   0.23     E   56.9    327\n",
       "3   0.29     I   62.4    334\n",
       "4   0.31     J   63.3    335"
      ]
     },
     "execution_count": 9,
     "metadata": {},
     "output_type": "execute_result"
    }
   ],
   "source": [
    "df_d = pd.read_csv('data/Diamonds.csv')\n",
    "df_d.head()"
   ]
  },
  {
   "cell_type": "markdown",
   "metadata": {},
   "source": [
    "#### (a) 在所有重量超过1克拉的钻石中，价格的极差是多少？\n",
    "#### (b) 若以开采深度的0.2\\0.4\\0.6\\0.8分位数为分组依据，每一组中钻石颜色最多的是哪一种？该种颜色是组内平均而言单位重量最贵的吗？\n",
    "#### (c) 以重量分组(0-0.5,0.5-1,1-1.5,1.5-2,2+)，按递增的深度为索引排序，求每组中连续的严格递增价格序列长度的最大值。\n",
    "#### (d) 请按颜色分组，分别计算价格关于克拉数的回归系数。（单变量的简单线性回归，并只使用Pandas和Numpy完成）"
   ]
  },
  {
   "cell_type": "code",
   "execution_count": 10,
   "metadata": {},
   "outputs": [
    {
     "name": "stdout",
     "output_type": "stream",
     "text": [
      "1 carat 以上 价格极差： 17561\n"
     ]
    }
   ],
   "source": [
    "#(a) 在所有重量超过1克拉的钻石中，价格的极差是多少？\n",
    "carat1 = df_d[df_d['carat']>1]\n",
    "print('1 carat 以上 价格极差：',carat1['price'].max()-carat1['price'].min())"
   ]
  },
  {
   "cell_type": "code",
   "execution_count": 11,
   "metadata": {},
   "outputs": [
    {
     "name": "stdout",
     "output_type": "stream",
     "text": [
      "[43.0, 60.8, 61.60000000000001, 62.10000000000001, 62.7, 79.0]\n",
      "颜色最多 E\n",
      "单价最贵 I \n",
      "\n",
      "颜色最多 G\n",
      "单价最贵 F \n",
      "\n",
      "颜色最多 G\n",
      "单价最贵 F \n",
      "\n",
      "颜色最多 G\n",
      "单价最贵 G \n",
      "\n",
      "颜色最多 G\n",
      "单价最贵 G \n",
      "\n"
     ]
    }
   ],
   "source": [
    "#(b) 若以开采深度的0.2\\0.4\\0.6\\0.8分位数为分组依据，\n",
    "#    每一组中钻石颜色最多的是哪一种？该种颜色是组内平均而言单位重量最贵的吗？\n",
    "def dq(x):#\n",
    "    return df_d['depth'].quantile(x)\n",
    "bins = [dq(0),dq(0.2),dq(0.4),dq(0.6),dq(0.8),dq(1)]\n",
    "print(bins)\n",
    "cuts = pd.cut(df_d['depth'],bins=bins) #可选label添加自定义标签\n",
    "df_d['pc'] = df_d['price']/df_d['carat']#每颗单位价格\n",
    "for name,group in df_d.groupby(cuts):\n",
    "    \n",
    "    colormost= group.groupby('color').count().sort_values(by = 'carat',ascending=False).index[0]\n",
    "    print(\"颜色最多\",colormost)\n",
    "    \n",
    "    mid = group.groupby('color').mean()\n",
    "    #mid['pc'] = mid['price']/mid['carat']#总价格/总重量\n",
    "    expercalat = mid['pc'].idxmax()\n",
    "    print('单价最贵',expercalat,'\\n')\n"
   ]
  },
  {
   "cell_type": "code",
   "execution_count": 12,
   "metadata": {},
   "outputs": [],
   "source": [
    "#(c) 以重量分组(0-0.5,0.5-1,1-1.5,1.5-2,2+)，按递增的深度为索引排序，\n",
    "#    求每组中连续的严格递增价格序列长度的最大值。\n",
    "def f(s):\n",
    "    mid = s.diff()\n",
    "    length = 1\n",
    "    maxlen = 1\n",
    "    for i in range(0,len(mid)):\n",
    "        if mid.iloc[i]>0:\n",
    "            length += 1\n",
    "            maxlen = max(maxlen,length)\n",
    "        else:\n",
    "            length = 1\n",
    "    return maxlen"
   ]
  },
  {
   "cell_type": "code",
   "execution_count": 14,
   "metadata": {},
   "outputs": [
    {
     "name": "stdout",
     "output_type": "stream",
     "text": [
      "8\n",
      "8\n",
      "7\n",
      "11\n",
      "7\n"
     ]
    }
   ],
   "source": [
    "bins = [0,0.5,1,1.5,2,df_d['carat'].max()]\n",
    "cuts = pd.cut(df_d['carat'],bins=bins)\n",
    "for name,group in df_d.groupby(cuts):\n",
    "    mid = (group.set_index('depth')['price'].sort_index())\n",
    "    print(f(mid))"
   ]
  },
  {
   "cell_type": "code",
   "execution_count": 57,
   "metadata": {},
   "outputs": [
    {
     "name": "stdout",
     "output_type": "stream",
     "text": [
      "D色，回归系数：8408.353126 ，截距：-2361.017152\n",
      "E色，回归系数：8296.212783 ，截距：-2381.049600\n",
      "F色，回归系数：8676.658344 ，截距：-2665.806191\n",
      "G色，回归系数：8525.345779 ，截距：-2575.527643\n",
      "H色，回归系数：7619.098320 ，截距：-2460.418046\n",
      "I色，回归系数：7761.041169 ，截距：-2878.150356\n",
      "J色，回归系数：7094.192092 ，截距：-2920.603337\n"
     ]
    }
   ],
   "source": [
    "#(d) 请按颜色分组，分别计算价格关于克拉数的回归系数。\n",
    "#   （单变量的简单线性回归，并只使用Pandas和Numpy.linalg完成）\n",
    "import numpy as np\n",
    "for name,group in df_d[['carat','price','color']].groupby('color'):\n",
    "    X    = np.array([group['carat'],np.ones(group.shape[0])])\n",
    "    Y    = np.array(group['price'])\n",
    "    Beta = np.linalg.inv((X).dot(X.T)).dot(X).dot(Y)\n",
    "    print(f'{name}色，回归系数：{Beta[0]:^12.6f}，截距：{Beta[1]:^12.6f}')"
   ]
  },
  {
   "cell_type": "code",
   "execution_count": 504,
   "metadata": {},
   "outputs": [
    {
     "name": "stdout",
     "output_type": "stream",
     "text": [
      "当颜色为D时，截距项为：-2361.017152，回归系数为：8408.353126\n",
      "当颜色为E时，截距项为：-2381.049600，回归系数为：8296.212783\n",
      "当颜色为F时，截距项为：-2665.806191，回归系数为：8676.658344\n",
      "当颜色为G时，截距项为：-2575.527643，回归系数为：8525.345779\n",
      "当颜色为H时，截距项为：-2460.418046，回归系数为：7619.098320\n",
      "当颜色为I时，截距项为：-2878.150356，回归系数为：7761.041169\n",
      "当颜色为J时，截距项为：-2920.603337，回归系数为：7094.192092\n"
     ]
    }
   ],
   "source": [
    "# 参考答案\n",
    "for name,group in df_d[['carat','price','color']].groupby('color'):\n",
    "    L1 = np.array([np.ones(group.shape[0]),group['carat']]).reshape(2,group.shape[0])\n",
    "    L2 = group['price']\n",
    "    result = (np.linalg.inv(L1.dot(L1.T)).dot(L1)).dot(L2).reshape(2,1)\n",
    "    print('当颜色为%s时，截距项为：%f，回归系数为：%f'%(name,result[0],result[1]))"
   ]
  },
  {
   "cell_type": "markdown",
   "metadata": {},
   "source": [
    "#### 【练习二】：有一份关于美国10年至17年的非法药物数据集，列分别记录了年份、州（5个）、县、药物类型、报告数量，请解决下列问题："
   ]
  },
  {
   "cell_type": "code",
   "execution_count": 382,
   "metadata": {},
   "outputs": [
    {
     "data": {
      "text/html": [
       "<div>\n",
       "<style scoped>\n",
       "    .dataframe tbody tr th:only-of-type {\n",
       "        vertical-align: middle;\n",
       "    }\n",
       "\n",
       "    .dataframe tbody tr th {\n",
       "        vertical-align: top;\n",
       "    }\n",
       "\n",
       "    .dataframe thead th {\n",
       "        text-align: right;\n",
       "    }\n",
       "</style>\n",
       "<table border=\"1\" class=\"dataframe\">\n",
       "  <thead>\n",
       "    <tr style=\"text-align: right;\">\n",
       "      <th></th>\n",
       "      <th>YYYY</th>\n",
       "      <th>State</th>\n",
       "      <th>COUNTY</th>\n",
       "      <th>SubstanceName</th>\n",
       "      <th>DrugReports</th>\n",
       "    </tr>\n",
       "  </thead>\n",
       "  <tbody>\n",
       "    <tr>\n",
       "      <th>0</th>\n",
       "      <td>2010</td>\n",
       "      <td>VA</td>\n",
       "      <td>ACCOMACK</td>\n",
       "      <td>Propoxyphene</td>\n",
       "      <td>1</td>\n",
       "    </tr>\n",
       "    <tr>\n",
       "      <th>1</th>\n",
       "      <td>2010</td>\n",
       "      <td>OH</td>\n",
       "      <td>ADAMS</td>\n",
       "      <td>Morphine</td>\n",
       "      <td>9</td>\n",
       "    </tr>\n",
       "    <tr>\n",
       "      <th>2</th>\n",
       "      <td>2010</td>\n",
       "      <td>PA</td>\n",
       "      <td>ADAMS</td>\n",
       "      <td>Methadone</td>\n",
       "      <td>2</td>\n",
       "    </tr>\n",
       "    <tr>\n",
       "      <th>3</th>\n",
       "      <td>2010</td>\n",
       "      <td>VA</td>\n",
       "      <td>ALEXANDRIA CITY</td>\n",
       "      <td>Heroin</td>\n",
       "      <td>5</td>\n",
       "    </tr>\n",
       "    <tr>\n",
       "      <th>4</th>\n",
       "      <td>2010</td>\n",
       "      <td>PA</td>\n",
       "      <td>ALLEGHENY</td>\n",
       "      <td>Hydromorphone</td>\n",
       "      <td>5</td>\n",
       "    </tr>\n",
       "  </tbody>\n",
       "</table>\n",
       "</div>"
      ],
      "text/plain": [
       "   YYYY State           COUNTY  SubstanceName  DrugReports\n",
       "0  2010    VA         ACCOMACK   Propoxyphene            1\n",
       "1  2010    OH            ADAMS       Morphine            9\n",
       "2  2010    PA            ADAMS      Methadone            2\n",
       "3  2010    VA  ALEXANDRIA CITY         Heroin            5\n",
       "4  2010    PA        ALLEGHENY  Hydromorphone            5"
      ]
     },
     "execution_count": 382,
     "metadata": {},
     "output_type": "execute_result"
    }
   ],
   "source": [
    "df_drug = pd.read_csv('data/Drugs.csv')\n",
    "df_drug.head()"
   ]
  },
  {
   "cell_type": "markdown",
   "metadata": {},
   "source": [
    "#### (a) 按照年份统计，哪个县的报告数量最多？这个县所属的州在当年也是报告数最多的吗？\n",
    "#### (b) 从14年到15年，Heroin的数量增加最多的是哪一个州？它在这个州是所有药物中增幅最大的吗？若不是，请找出符合该条件的药物。"
   ]
  },
  {
   "cell_type": "code",
   "execution_count": 383,
   "metadata": {},
   "outputs": [
    {
     "name": "stdout",
     "output_type": "stream",
     "text": [
      "2010\n",
      "最多县 PHILADELPHIA 最多州 PA 一致\n",
      "2011\n",
      "最多县 PHILADELPHIA 最多州 OH 不一致\n",
      "2012\n",
      "最多县 PHILADELPHIA 最多州 OH 不一致\n",
      "2013\n",
      "最多县 PHILADELPHIA 最多州 OH 不一致\n",
      "2014\n",
      "最多县 PHILADELPHIA 最多州 OH 不一致\n",
      "2015\n",
      "最多县 PHILADELPHIA 最多州 OH 不一致\n",
      "2016\n",
      "最多县 HAMILTON 最多州 OH 一致\n",
      "2017\n",
      "最多县 HAMILTON 最多州 OH 一致\n"
     ]
    }
   ],
   "source": [
    "#(a) 按照年份统计，哪个县的报告数量最多？这个县所属的州在当年也是报告数最多的吗？\n",
    "grouped_year = df_drug.groupby(['YYYY'])\n",
    "for name,group in grouped_year:\n",
    "    print(name)\n",
    "    county = group.groupby('COUNTY')['DrugReports'].sum().sort_values(ascending=False).index[0]\n",
    "    state  = group.groupby('State')['DrugReports'].sum().sort_values(ascending=False).index[0]\n",
    "    \n",
    "    if df_drug[(df_drug['COUNTY']==county)&(df_drug['State']==state)].shape[0] >0:\n",
    "        thesame = '一致'\n",
    "    else:\n",
    "        thesame = '不一致'\n",
    "    \n",
    "    print('最多县',county,'最多州',state,thesame)"
   ]
  },
  {
   "cell_type": "code",
   "execution_count": 384,
   "metadata": {},
   "outputs": [
    {
     "name": "stdout",
     "output_type": "stream",
     "text": [
      "14-15Heroin报告增幅最大的州 OH\n"
     ]
    }
   ],
   "source": [
    "#(b) 从14年到15年，Heroin的数量增加最多的是哪一个州？它在这个州是所有药物中增幅最大的吗？\n",
    "#    若不是，请找出符合该条件的药物。\n",
    "#先处理2014-2015heroin情况\n",
    "df_14 = df_drug.loc[(df_drug['YYYY']==2014)&(df_drug['SubstanceName']=='Heroin')]\n",
    "result14 = df_14.groupby(['State'])['DrugReports'].sum()\n",
    "\n",
    "df_15 = df_drug.loc[(df_drug['YYYY']==2015)&(df_drug['SubstanceName']=='Heroin')]\n",
    "result15 = df_15.groupby(['State'])['DrugReports'].sum()\n",
    "\n",
    "state_heroin = (result15-result14).sort_values(ascending=False).index[0]\n",
    "print('14-15Heroin报告增幅最大的州',state_heroin)\n"
   ]
  },
  {
   "cell_type": "code",
   "execution_count": 391,
   "metadata": {},
   "outputs": [
    {
     "name": "stdout",
     "output_type": "stream",
     "text": [
      "OH 州14-15报告增幅最大毒品 Heroin\n"
     ]
    }
   ],
   "source": [
    "df_14_state = df_drug.loc[(df_drug['YYYY']==2014)&(df_drug['State']==state_heroin)]\n",
    "result14_state = df_14_state.groupby('SubstanceName')['DrugReports'].sum()\n",
    "\n",
    "\n",
    "df_15_state = df_drug.loc[(df_drug['YYYY']==2015)&(df_drug['State']==state_heroin)]\n",
    "result15_state = df_15_state.groupby('SubstanceName')['DrugReports'].sum()\n",
    "\n",
    "state_heroin_drug = (result15_state-result14_state).sort_values(ascending=False).index[0]\n",
    "\n",
    "print(state_heroin,'州14-15报告增幅最大毒品',state_heroin_drug)"
   ]
  },
  {
   "cell_type": "code",
   "execution_count": null,
   "metadata": {},
   "outputs": [],
   "source": []
  }
 ],
 "metadata": {
  "kernelspec": {
   "display_name": "Python 3",
   "language": "python",
   "name": "python3"
  },
  "language_info": {
   "codemirror_mode": {
    "name": "ipython",
    "version": 3
   },
   "file_extension": ".py",
   "mimetype": "text/x-python",
   "name": "python",
   "nbconvert_exporter": "python",
   "pygments_lexer": "ipython3",
   "version": "3.7.6"
  }
 },
 "nbformat": 4,
 "nbformat_minor": 4
}
