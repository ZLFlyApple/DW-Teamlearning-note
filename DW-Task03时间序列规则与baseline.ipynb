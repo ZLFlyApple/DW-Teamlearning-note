{
 "cells": [
  {
   "cell_type": "markdown",
   "metadata": {},
   "source": [
    "### 时间序列规则与baseline\n",
    "学习完本课程后，你将能够:\n",
    "1. 了解挖掘规则做预测的重要性  \n",
    "    - 好的规则可以为建模引入更多信息，直接使用某些规则结果好于建模。\n",
    "2. 掌握时间序列规则的基本方法\n",
    "3. 利用时间序列规则获得资金流入流出赛题数据的baseline"
   ]
  },
  {
   "cell_type": "markdown",
   "metadata": {},
   "source": [
    "#### 基于周期因子的时间序列预测\n",
    "- 支付数据、客流量数据、交通数据等时间序列通常都具有明显的周期性\n",
    "- 周期性是核心\n",
    "- 确定周期(一周、一月)\n",
    "- 确定组成一个周期的元素(周1-周日、1号-31号) 。结合STL分解观察周期变化\n",
    "- 缺点:不考虑节假日、突发事件等（简单重复）\n",
    "\n",
    "####  时间序列的各种变化都可以归纳成四大类因素的综合影响\n",
    "- 长期趋势(trend):会导致序列出现明显的长期趋势\n",
    "- 循环波动(circle):会导致序列呈现出周期性波动\n",
    "- 季节性变化(season): 会导致序列呈现出和季节变化相关的稳定的周期波动.\n",
    "- 随机波动(immediate): 纯随机、与时间无关\n",
    "\n",
    "#### STL(Seasonal and Trend decomposition using Loess )分解\n",
    "- 最常用的分解方法\n",
    "- 将时间序列分解为周期项(季节项)𝑪𝒕+趋势项𝑻𝒕+随机项𝑰𝒕\n",
    "\n",
    "#### baseline思路理解\n",
    "因为要预测2014年9月数据。而本数据集2014年3月后数据在星期尺度上周期性明显。本baseline模型根据STL，分解为周期项（翌日因子），趋势+随机项（日期残差）。\n",
    "1. 选中固定时间段的数据集。使用周期性较明显、平稳段数据做预测基准，2014.3月。\n",
    "2. 星期周期。统计翌日因子。统计星期几对数据影响指数（星期x均值/整体均值）。\n",
    "3. 月周期影响。分别统计翌日（星期x）在(1~31)号出现的频次以及依据频次对翌日因子进行加权，获得日期残差（此步计算过程中，已经充分考虑到翌日因子及其加权比例。在现有模型下，实际数据的偏离只能由于月份中日期的影响）。\n",
    "4. 剔除月周期影响。将训练集中所有日期的均值剔除日期残差得到base。\n",
    "5. 使用base*翌日因子进行预测。\n",
    "\n",
    "#### baseline结果\n",
    "\n",
    "- ID: FlyApple\n",
    "- 日期:2020-08-22 19:02:47排名: 无\n",
    "- finalScore：135.5091"
   ]
  },
  {
   "cell_type": "code",
   "execution_count": null,
   "metadata": {},
   "outputs": [],
   "source": []
  }
 ],
 "metadata": {
  "kernelspec": {
   "display_name": "Python 3",
   "language": "python",
   "name": "python3"
  },
  "language_info": {
   "codemirror_mode": {
    "name": "ipython",
    "version": 3
   },
   "file_extension": ".py",
   "mimetype": "text/x-python",
   "name": "python",
   "nbconvert_exporter": "python",
   "pygments_lexer": "ipython3",
   "version": "3.7.6"
  },
  "toc": {
   "base_numbering": 1,
   "nav_menu": {},
   "number_sections": true,
   "sideBar": true,
   "skip_h1_title": false,
   "title_cell": "Table of Contents",
   "title_sidebar": "Contents",
   "toc_cell": false,
   "toc_position": {},
   "toc_section_display": true,
   "toc_window_display": false
  }
 },
 "nbformat": 4,
 "nbformat_minor": 4
}
