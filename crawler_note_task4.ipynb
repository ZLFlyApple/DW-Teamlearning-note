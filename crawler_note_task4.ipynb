{
 "cells": [
  {
   "cell_type": "markdown",
   "metadata": {},
   "source": [
    "### 大作业：爬取腾讯新闻"
   ]
  },
  {
   "cell_type": "markdown",
   "metadata": {},
   "source": [
    "1. 了解ajax加载\n",
    "2. 通过chrome的开发者工具，监控网络请求，并分析\n",
    "3. 用selenium完成爬虫\n",
    "4. 具体流程如下：\n",
    "<br>用selenium爬取https://news.qq.com/ 的热点精选\n",
    "![1585810800%281%29.png](1585810800%281%29.png)\n",
    "热点精选至少爬50个出来，存储成csv\n",
    "每一行如下\n",
    "标号（从1开始）,标题,链接,...（前三个为必做，后面内容可以自己加）\n",
    "![1585810759%281%29.png](1585810759%281%29.png)\n"
   ]
  },
  {
   "cell_type": "markdown",
   "metadata": {},
   "source": [
    "\n"
   ]
  },
  {
   "cell_type": "code",
   "execution_count": 1,
   "metadata": {},
   "outputs": [],
   "source": [
    "import time, requests, json, re, random\n",
    "from selenium import webdriver\n",
    "\n",
    "from lxml import etree"
   ]
  },
  {
   "cell_type": "markdown",
   "metadata": {},
   "source": [
    "#### 1、打开腾讯新闻网页"
   ]
  },
  {
   "cell_type": "code",
   "execution_count": 4,
   "metadata": {},
   "outputs": [],
   "source": [
    "driver = webdriver.Chrome()\n",
    "driver.get('https://news.qq.com/')\n",
    "# 将窗口调整最大\n",
    "driver.maximize_window()\n",
    "# 休息5s\n",
    "time.sleep(5)\n",
    "#此处需添加页面滚动加载功能"
   ]
  },
  {
   "cell_type": "markdown",
   "metadata": {},
   "source": [
    "### 2、【热点新闻】默认加载10条，随着页面滚动向下，动态加载增加\n",
    "- 调用‘window.scrollBy’执行页面滚动\n",
    "- 利用random对单次滚动距离、滚动间隔时间进行选取，模拟人工操作"
   ]
  },
  {
   "cell_type": "code",
   "execution_count": 5,
   "metadata": {},
   "outputs": [],
   "source": [
    "import random\n",
    "for i in range(20):\n",
    "    pixel = random.randint(800,1000)\n",
    "    driver.execute_script(f'window.scrollBy(0,{pixel})')\n",
    "    time.sleep(random.random()+1)\n"
   ]
  },
  {
   "cell_type": "markdown",
   "metadata": {},
   "source": [
    "### 3、获取网页html【热点新闻】部分"
   ]
  },
  {
   "cell_type": "code",
   "execution_count": 6,
   "metadata": {},
   "outputs": [
    {
     "data": {
      "text/plain": [
       "<selenium.webdriver.remote.webelement.WebElement (session=\"ec21e417877c63e16631dd23c4b68f38\", element=\"77cd9798-2ef1-4bc5-a50d-d11b8666fd0c\")>"
      ]
     },
     "execution_count": 6,
     "metadata": {},
     "output_type": "execute_result"
    }
   ],
   "source": [
    "driver.find_element_by_xpath('//ul[@class=\"list\"]')"
   ]
  },
  {
   "cell_type": "markdown",
   "metadata": {},
   "source": [
    "### 4、读取新闻标题、链接、发布媒体等信息"
   ]
  },
  {
   "cell_type": "code",
   "execution_count": 8,
   "metadata": {},
   "outputs": [
    {
     "name": "stdout",
     "output_type": "stream",
     "text": [
      "1 , 当当电话会议实录：李国庆抢公章行为非法 俞渝持股52.23% , https://new.qq.com/zt/template/?id=TEC2020042600521000 , 腾讯新闻\n",
      "2 , 哈尔滨“1传80＋”，副市长陈远飞再被中央纪委通报 , https://new.qq.com/omn/20200426/20200426A0KWHQ00.html , 长安街知事\n",
      "3 , 市委书记、市长请了10位企业家一起吃饭，现场画面曝光 , https://new.qq.com/omn/20200426/20200426A0GYH700.html , 北京青年报政知道\n",
      "4 , 河北保定一家4口被害案警方再发悬赏通告 更多案件细节披露 , https://new.qq.com/omn/20200426/20200426A0I5IH00.html , 北青Qnews\n",
      "5 , 31省份最低工资调整出炉：上海2480元领跑 北京时薪最高 , https://new.qq.com/omn/20200426/20200426A0G0WS00.html , 中国网\n",
      "6 , 媒体：“多国女子想嫁到中国”，鸡血含量高达100％ , https://new.qq.com/omn/20200426/20200426A0DVC700.html , 沸腾\n",
      "7 , 非洲人在华遭虐待？法新社核查网络视频揭开真相 , https://new.qq.com/omn/20200426/20200426A0ALM200.html , 中国新闻网\n",
      "8 , 河北广宗自来水灼伤村民 记者探访涉事企业：大门紧闭已停工 , https://new.qq.com/omn/20200426/20200426V0HHDQ00.html , 新京报我们视频\n",
      "9 , 探访当当网总部：当当网报警称李国庆闯入抢走公章 , https://new.qq.com/omn/20200426/20200426V0JNY500.html , 老板联播\n",
      "10, 现场画面！武汉最后一批在院新冠肺炎患者出院 , https://new.qq.com/omn/20200426/20200426V0HGUW00.html , 长江直播\n",
      "11, 投资人：中行表示暂不追缴原油宝保证金欠款 也暂不纳入征信 , https://new.qq.com/zt/template/?id=FIN2020042200316800 , 腾讯新闻\n",
      "12, 湖北居民因疫情无法在签注有效期内赴港澳台？官方回应了 , https://new.qq.com/omn/20200426/20200426A0IFC300.html , 新京报\n",
      "13, 儿童独自在车内被车窗卡住去世 警方：事发时无人看管 , https://new.qq.com/omn/20200426/20200426V0HAKO00.html , 新京报我们视频\n",
      "14, 台北一间KTV失火已有54人送医，其中5人死亡2人生命垂危 , https://new.qq.com/omn/20200426/20200426A0HY0O00.html , 环球时报国内\n",
      "15, 李国庆率4大汉赴当当夺回公章，宣布全面接管当当“罢免”俞渝 , https://new.qq.com/omn/20200426/20200426A0E6IP00.html , 三言财经\n",
      "16, 对话“错换人生28年”事件4名当事人：卖血借钱先治病，再追责 , https://new.qq.com/omn/TWF20200/TWF2020042600245200.html , 上游新闻-重庆晨报\n",
      "17, 甘肃女生遭猥亵坠亡案教师获刑两年 女生父亲：他出庭时还在抵赖 , https://new.qq.com/omn/20200426/20200426V0B80L00.html , 新京报我们视频\n",
      "18, 牛弹琴：美国海军要“造反”了！ , https://new.qq.com/omn/20200426/20200426A04E9K00.html , 牛弹琴\n",
      "19, 回归烟火气的武汉：市民蹲街边过早 吃到热干面有久违的感觉 , https://new.qq.com/omn/20200426/20200426V00V8Y00.html , 新京报我们视频\n",
      "20, “胖妞”出国抗疫的三大看点 , https://new.qq.com/omn/20200426/20200426A0666H00.html , 新民周刊\n",
      "21, 国家跨省异地就医结算系统暂停服务 可延期办理联网结算 , https://new.qq.com/omn/20200426/20200426A076LK00.html , 成都商报红星新闻\n",
      "22, 安徽初中女生学校坠亡：日记自述患抑郁症，两舍友目睹其后仰坠楼  , https://new.qq.com/omn/20200426/20200426A053LS00.html , 新京报\n",
      "23, 哈尔滨新冠疫情传染链再延长：已致80多人感染 许多疑问仍待解 , https://new.qq.com/omn/TWF20200/TWF2020042600026900.html , 央视新闻客户端\n",
      "24, 广西边境查获13名非法入境外国人，现场画面曝光 , https://new.qq.com/omn/20200425/20200425V0M94M00.html , 梨视频\n",
      "25, 青岛小珠山山火6处火点已被扑灭 617名撤离居民返家 , https://new.qq.com/omn/20200426/20200426A00CND00.html , 中国青年报\n",
      "26, 湖南失踪女大学生遇害 同村嫌疑人被抓 案发当天部分监控缺失 , https://new.qq.com/omn/20200426/20200426A00CGT00.html , 成都商报红星新闻\n",
      "27, 长江流域抗生素污染调查：儿童孕妇尿液中检出多种抗生素 , https://new.qq.com/omn/20200425/20200425A07RED00.html , 瞭望\n",
      "28, 河北广宗饮用水异常原因查明：3名嫌疑人被控制 企业法人投案自首 , https://new.qq.com/omn/20200425/20200425A0MGXN00.html , 成都商报红星新闻\n",
      "29, 公安部对13人发A级通缉令已有6人落网，22岁女逃犯东莞被抓 , https://new.qq.com/omn/20200425/20200425A0OHMS00.html , 南方都市报\n",
      "30, 商务部等加强非医用口罩出口监管：报关时须提交进出口双方共同声明 , https://new.qq.com/omn/20200426/20200426A00DYM00.html , 环球时报新媒体\n",
      "31, 镉大米重现：“毒大米”为何屡禁不绝？ , https://new.qq.com/omn/20200425/20200425A0IYB100.html , 新京报评论\n",
      "32, 青岛小珠山两处山火复燃 地形陡峭难以靠近救援队无奈折返 , https://new.qq.com/omn/20200425/20200425V0NS7V00.html , 新京报我们视频\n",
      "33, 湖南省2天5人被查，省纪委监委：反腐没有“暂停键” , https://new.qq.com/omn/20200425/20200425A0H7CO00.html , 澎湃新闻\n",
      "34, 公积金要取消？多地减缓缴存！争议公积金存废：14.6万亿规模怎么替代 , https://new.qq.com/omn/20200425/20200425A0B4EQ00.html , 21世纪经济报道\n",
      "35, “常阳患者”会传染吗？援鄂一线专家六问释疑 , https://new.qq.com/omn/20200425/20200425A0DOOF00.html , 新京报\n",
      "36, 80后海归女老板：三个月损失超九千万 亲自开车送快餐 , https://new.qq.com/omn/20200424/20200424V0HGZU00.html , 中国人的一天\n",
      "37, 多地明确暑假时间，部分地区延期近一个月 , https://new.qq.com/omn/20200425/20200425A0LHFY00.html , 新京报\n",
      "38, 河北保定一家四口遇害：嫌疑人系住对门的亲戚，两家曾有矛盾 , https://new.qq.com/omn/20200425/20200425A0KRTE00.html , 楚天都市报\n",
      "39, 海航流动性危机发酵：海航基础业绩大变脸，剩余地产资产归属将现终局 , https://new.qq.com/omn/20200425/20200425A0IVM000.html , 每日经济新闻\n",
      "40, 江西景德镇客车侧翻致6死事故画面曝光 客车避让轿车后失控 , https://new.qq.com/omn/20200424/20200424V0Q2K300.html , 新京报我们视频\n",
      "41, 美国共和党“积极攻击中国”备忘录曝光，华春莹发推反击 , https://new.qq.com/omn/20200425/20200425A0GRZ100.html , 环球网\n",
      "42, 专家：武汉“封城”让全球减少1200万-4200万感染者 , https://new.qq.com/omn/20200425/20200425A0LWXL00.html , 经济观察报\n",
      "43, 伊朗首射军星后，美伊在波斯湾“危险接近”会否升级？ , https://new.qq.com/omn/20200425/20200425A0EQQR00.html , 澎湃新闻\n",
      "44, 最新发现！鼻子或是新冠病毒感染的“毒库” , https://new.qq.com/omn/20200425/20200425A0A5CC00.html , 健康时报客户端\n",
      "45, 疫情中的日本黑帮：大发口罩财，比政府更早进入紧急状态 , https://new.qq.com/omn/20200424/20200424A0SWME00.html , 凤凰星\n",
      "46, 台媒：美军驱逐舰通过台湾海峡后，反潜机又经巴士海峡进入南海 , https://new.qq.com/omn/20200425/20200425A0AUUP00.html , 环球时报国内\n",
      "47, 世卫组织：无证据表明新冠肺炎康复者能避免二次感染 , https://new.qq.com/omn/20200425/20200425A0KM8100.html , 新京报\n",
      "48, 25省发布一季度GDP数据：湖北跌出万亿俱乐部，23省增速超全国 , https://new.qq.com/omn/20200425/20200425A0IKFA00.html , 澎湃新闻\n",
      "49, 河北保定发生重大刑案警方悬赏5万缉凶 村民：一家四人被杀 , https://new.qq.com/omn/20200425/20200425V05VKJ00.html , 新京报我们视频\n",
      "50, 兰州娱乐场所陆续复工：限流限时营业 一客一消杀 , https://new.qq.com/omn/20200425/20200425A0IE7S00.html , 中国新闻网\n",
      "51, 加拿大从中国采购口罩“不达标”？中国驻加使馆回应 , https://new.qq.com/omn/20200425/20200425A0AV7U00.html , 新京报\n",
      "52, 云南旱情历史罕见：137条河道断流 201座水库干涸 , https://new.qq.com/omn/TWF20200/TWF2020042500352200.html , 央视新闻客户端\n",
      "53, “五一”假期如何出行？各地景区恢复政策大汇总 , https://new.qq.com/omn/20200425/20200425A05Z3500.html , 澎湃新闻\n",
      "54, 疑因护士抱错致“错换人生28年” 涉事医院：若是医院的错绝不护短 , https://new.qq.com/omn/20200425/20200425A0EHWH00.html , 上游新闻\n",
      "55, 青岛小珠山山火已明显减弱：千余人彻夜扑救 已不见明火 , https://new.qq.com/omn/20200425/20200425V06UUA00.html , 梨视频\n",
      "56, 有关后新冠时代的13个判断：世界将大不一样（下） , https://new.qq.com/omn/20200424/20200424A0N6WS00.html , 中国新闻周刊\n",
      "57, 张文宏回应“早餐喝不喝粥”争议：有讨论就是好事 , https://new.qq.com/omn/KLS20200/KLS2020042500429000.html , 391\n",
      "58, 部分途经墨西哥转机中国公民被遣返回出发地，中使馆发紧急提醒 , https://new.qq.com/omn/20200425/20200425A05KWR00.html , 成都商报红星新闻\n",
      "59, “甘肃庆阳女生遭猥亵坠亡”当事教师获刑2年 禁止从事相关职业3年 , https://new.qq.com/omn/20200425/20200425A0EGU900.html , 南方都市报\n",
      "60, 全国高速公路道口恢复“落杆”状态，仍然免费通行 , https://new.qq.com/omn/20200424/20200424A0SXDK00.html , 上游新闻\n",
      "61, 被公安部通缉的“98年生女逃犯”已被刑拘：涉嫌参与传销非法拘禁 , https://new.qq.com/omn/20200424/20200424A0UHUR00.html , 南方都市报\n",
      "62, 滞留巴厘岛的中国人：航班多次取消，孕妇等到快生娃，仍不知归期 , https://new.qq.com/omn/20200425/20200425A07ZFW00.html , 南方都市报\n",
      "63, 谷雨｜燕郊固安的环京人：上下班5小时辗转70公里 只为生活好 , https://new.qq.com/omn/20200425/20200425A063VT00.html , 腾讯新闻谷雨实验室\n",
      "64, 内蒙古：所有入境人员一律实行“14＋14＋2＋1”管控措施 , https://new.qq.com/omn/20200425/20200425A0309A00.html , 中国新闻网\n",
      "65, 湖南益阳：立案调查涉云南重金属超标大米7家企业 , https://new.qq.com/omn/20200425/20200425A0496R00.html , 长沙晚报\n",
      "66, 抗疫期间顶风公款聚餐 江苏响水公检法一把手齐被问责 , https://new.qq.com/omn/20200425/20200425A04IW800.html , 澎湃新闻\n",
      "67, 婴儿趴睡致死知情人曝惊人内幕：有话术洗脑压制母亲不能去帮孩子 , https://new.qq.com/omn/20200424/20200424V0SG5F00.html , F视频\n",
      "68, 一线丨小鹏汽车向特斯拉发严正声明：过去一年一直被骚扰、霸凌 , https://new.qq.com/omn/20200425/20200425A06R4500.html , 腾讯新闻潜望\n",
      "69, 较真丨宝宝趴着睡能预防呕吐、助消化？这个“育儿经”真的靠不住 , https://new.qq.com/omn/20200425/20200425A05DO600.html , 较真\n",
      "70, 河北邢台多个村庄饮用水异常：发黄起沫村民被灼伤 鱼虾大片死亡 , https://new.qq.com/omn/20200424/20200424V0T56E00.html , 青蜂侠\n",
      "71, 国家防办：松花江流域、海河流域、黄河流域中上游等可能发生较重汛情 , https://new.qq.com/omn/20200424/20200424A0U8IL00.html , 新华社新闻\n",
      "72, “抗体血浆”竟成特效药！“换血”会成富人“续命爆款”吗？ , https://new.qq.com/omn/20200424/20200424A0SNOC00.html , 南风窗\n",
      "73, 贵阳三月大女婴熟睡时被老鼠咬伤  事发时奶奶正在屋外洗衣服 , https://new.qq.com/omn/20200424/20200424V0KWTZ00.html , 新京报我们视频\n",
      "74, 河南河北两副省长先后被公诉：一个喝酒只喝茅台 一个搞迷信活动 , https://new.qq.com/omn/20200424/20200424A0RTYK00.html , 封面新闻\n",
      "75, 谷雨数据丨喊麦真的该被骂吗？分析100首麦词我们发现了这些 , https://new.qq.com/omn/20200424/20200424A0F7GE00.html , 腾讯新闻谷雨数据\n",
      "76, 公安部对13名涉黑恶逃犯发布A级通缉令 最小女逃犯生于1998年 , https://new.qq.com/omn/TWF20200/TWF2020042400906500.html , 公安部刑侦局\n",
      "77, 董明珠透露格力电器近况：一季度少卖300亿元，为呵护员工不会裁员 , https://new.qq.com/omn/20200425/20200425A03RLC00.html , 硅谷分析狮\n",
      "78, 华春莹发推：中国提供美国的口罩，够每个美国人分7个 , https://new.qq.com/omn/20200424/20200424A0Q5H300.html , 观察者网\n",
      "79, 五一小长假将至，“报复性”旅游会来吗？ , https://new.qq.com/omn/20200424/20200424A0QGWY00.html , 中国经济周刊\n",
      "80, 环京楼市反弹？中介口头确认放开限购 有业主房子“白送”只求还贷  , https://new.qq.com/zt/template/?id=FIN2020041900663300 , 腾讯新闻\n",
      "81, 济南一村支书甩开上访者致其骨折 获刑一年不服向高院申诉 , https://new.qq.com/omn/20200424/20200424V0TZKX00.html , 新京报我们视频\n",
      "82, 黑龙江又现医院感染聚集性病例，已有14人感染包括两名医护人员 , https://new.qq.com/omn/20200424/20200424A0HGR900.html , 北京日报客户端\n",
      "83, 网传武汉一乘客红码乘车致全车人被隔离，官方回应 , https://new.qq.com/omn/20200424/20200424A0JJIC00.html , 界面新闻\n",
      "84, 山东“省考”大幅扩招 今年公务员扩招会是趋势吗？ , https://new.qq.com/omn/20200424/20200424A0R7HS00.html , 中国新闻网\n",
      "85, 四川副校长性侵事件：多名男生称曾遭体罚 给女学生的疑似情书曝光 , https://new.qq.com/omn/20200424/20200424V0LI7T00.html , 看度新闻\n",
      "86, 媒体：质疑张文宏可以，别扣“崇洋媚外”的帽子 , https://new.qq.com/omn/20200424/20200424A0LKYI00.html , 中青评论\n"
     ]
    }
   ],
   "source": [
    "#实现对当前页面中已加载热点新闻列表的爬取\n",
    "tree = etree.HTML(driver.page_source) \n",
    "newstree = tree.xpath('//*[@id=\"List\"]/div/ul[2]')[0].xpath('li')\n",
    "count = 0\n",
    "newslist=list()\n",
    "for news in newstree:\n",
    "    source = 'aaa'\n",
    "    if news.xpath('div/h3/a/text()') != []:\n",
    "        title = news.xpath('div/h3/a/text()')[0]\n",
    "        nurl  = news.xpath('div/h3/a/@href')[0]\n",
    "        source= news.xpath('div/div[@class=\"binfo cf\"]/div/a/text()')[0]\n",
    "    else:\n",
    "        title = news.xpath('h3/a/text()')[0]\n",
    "        nurl  = news.xpath('h3/a/@href')[0]\n",
    "        source= news.xpath('div[@class=\"binfo cf\"]/div/a/text()')[0]\n",
    "    count += 1\n",
    "    print(f'{count:<2d}, {title} , {nurl} , {source}')\n",
    "    newslist.append([count,title,nurl,source])\n"
   ]
  },
  {
   "cell_type": "code",
   "execution_count": 9,
   "metadata": {},
   "outputs": [],
   "source": [
    "driver.quit()"
   ]
  },
  {
   "cell_type": "code",
   "execution_count": 10,
   "metadata": {},
   "outputs": [],
   "source": [
    "#最终结果，存入csv中\n",
    "import pandas as pd\n",
    "name=['number','title','url','source']\n",
    "df=pd.DataFrame(columns=name,data=newslist)\n",
    "df.to_csv('tencent_news.csv',index=False)"
   ]
  },
  {
   "cell_type": "code",
   "execution_count": null,
   "metadata": {},
   "outputs": [],
   "source": []
  }
 ],
 "metadata": {
  "kernelspec": {
   "display_name": "Python 3",
   "language": "python",
   "name": "python3"
  },
  "language_info": {
   "codemirror_mode": {
    "name": "ipython",
    "version": 3
   },
   "file_extension": ".py",
   "mimetype": "text/x-python",
   "name": "python",
   "nbconvert_exporter": "python",
   "pygments_lexer": "ipython3",
   "version": "3.7.6"
  }
 },
 "nbformat": 4,
 "nbformat_minor": 4
}
