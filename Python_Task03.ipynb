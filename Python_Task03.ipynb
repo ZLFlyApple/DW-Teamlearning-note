{
 "cells": [
  {
   "cell_type": "markdown",
   "metadata": {},
   "source": [
    "## 异常处理\n",
    "### 笔记\n",
    "- 异常（Error）就是运行期检测到的错误。计算机语言针对可能出现的错误定义了异常类型，某种错误引发对应的异常时，异常处理程序将被启动，从而恢复程序的正常运行。\n",
    "- 警告（Warning）一般不影响程序的运行。\n",
    "\n",
    "- 使用 try - except 语句，可以捕获异常和警告，并进行相应处理。\n",
    "    - 一个try语句可能包含多个except子句（也可以合成一句），分别来处理不同的特定的异常。最多只有一个分支会被执行。异常体系内部有层次关系，注意顺序由小到大。\n",
    "    - try - except - finally 语句。不管try子句里面有没有发生异常，finally子句都会执行。如果一个异常在try子句里被抛出，而又没有任何的except把它截住，那么这个异常会在finally子句执行后被抛出。\n",
    "    - try - except - else 语句。如果在try子句执行时没有发生异常，Python将执行else语句后的语句。无except语句时报错。\n",
    "    - raise 语句。使用raise语句抛出一个指定的异常。\n",
    "\n"
   ]
  },
  {
   "cell_type": "markdown",
   "metadata": {},
   "source": [
    "### 练习题：\n",
    "\n",
    "#### 猜数字游戏\n",
    "\n",
    "电脑产生一个零到100之间的随机数字，然后让用户来猜，如果用户猜的数字比这个数字大，提示太大，否则提示太小，当用户正好猜中电脑会提示，\"恭喜你猜到了这个数是......\"。在用户每次猜测之前程序会输出用户是第几次猜测，如果用户输入的根本不是一个数字，程序会告诉用户\"输入无效\"。\n",
    "\n",
    "(尝试使用try catch异常处理结构对输入情况进行处理)\n",
    "\n",
    "获取随机数采用random模块。"
   ]
  },
  {
   "cell_type": "code",
   "execution_count": null,
   "metadata": {},
   "outputs": [
    {
     "name": "stdout",
     "output_type": "stream",
     "text": [
      "猜测一个0到100之间的整数\n",
      "第 1 猜请输入一个整型数字:\n"
     ]
    }
   ],
   "source": [
    "from random import randint\n",
    "\n",
    "num = randint(0,100)\n",
    "print('猜测一个0到100之间的整数')\n",
    "times = 1\n",
    "#print(num)\n",
    "while(1):\n",
    "    print('第',times,'猜请输入一个整型数字:')\n",
    "    a = int(input())\n",
    "    try:\n",
    "        1/(a-num)\n",
    "    except ZeroDivisionError:\n",
    "        print('猜对了！')\n",
    "        break\n",
    "    else:\n",
    "        times+=1\n",
    "        if(a<num):\n",
    "            print('太小')\n",
    "        elif(a>num):\n",
    "            print('太大')"
   ]
  },
  {
   "cell_type": "code",
   "execution_count": null,
   "metadata": {},
   "outputs": [],
   "source": []
  }
 ],
 "metadata": {
  "kernelspec": {
   "display_name": "Python 3",
   "language": "python",
   "name": "python3"
  },
  "language_info": {
   "codemirror_mode": {
    "name": "ipython",
    "version": 3
   },
   "file_extension": ".py",
   "mimetype": "text/x-python",
   "name": "python",
   "nbconvert_exporter": "python",
   "pygments_lexer": "ipython3",
   "version": "3.7.6"
  },
  "toc": {
   "base_numbering": 1,
   "nav_menu": {},
   "number_sections": true,
   "sideBar": true,
   "skip_h1_title": false,
   "title_cell": "Table of Contents",
   "title_sidebar": "Contents",
   "toc_cell": false,
   "toc_position": {},
   "toc_section_display": true,
   "toc_window_display": false
  }
 },
 "nbformat": 4,
 "nbformat_minor": 4
}
