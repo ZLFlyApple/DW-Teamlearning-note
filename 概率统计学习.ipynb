{
 "cells": [
  {
   "cell_type": "markdown",
   "metadata": {},
   "source": [
    "## 随机事件与随机变量（6.22）\n",
    "### 理论部分\n",
    "\n",
    "**基本概念：** 随机事件，样本空间等；  \n",
    "**概率基础：** 古典概型，条件概率，贝叶斯公式；  \n",
    "**随机变量及其分布特征**  \n",
    "### 练习部分：\n",
    "- 做理论知识点的笔记；\n",
    "- python实现二项分布，协方差和相关系数以及贝叶斯公式；"
   ]
  },
  {
   "cell_type": "markdown",
   "metadata": {},
   "source": [
    "#### 理论知识点的笔记  \n",
    "\n",
    "\n",
    "##### **随机实验$E$**满足以下三个条件: \n",
    "\n",
    "1. 可以在相同条件下重复进行；\n",
    "2. 结果有多种可能性，并且所有可能结果事先已知；\n",
    "3. 作一次试验究竟哪个结果出现，事先不能确定。\n",
    "\n",
    "##### **贝叶斯公式**  \n",
    "在实际中，常取对样本空间  $\\Omega$ 的有限划分 $B_1,B_2,...,B_n$ 。  \n",
    "- $B_i$ 视为导致试验结果 $A$ 发生的“原因”，而$P(B_i)$ 表示各种“原因”发生的可能性大小，故称为**先验**概率；\n",
    "- $P(B_i|A)$ 则反应当试验产生了结果 $A$ 之后，再对各种“原因”概率的新认识，故称为**后验**概率 。\n",
    "\n",
    "##### **协方差和相关系数**都是描述随机变量 $X$ 与随机变量 $Y$ 之间的**线性联系**程度的数字量。\n",
    "\n",
    "- 计算公式 $Cov(X，Y) =E( XY) -E( X)E(Y) $ ;  $E( XY) $ 为 $X，Y$ 联合分布**乘积**的期望，相互独立时，有 $Cov(X，Y) = 0$;\n",
    "     \n",
    "- $\\rho（X,Y） = \\frac{Cov(X，Y)}{\\sqrt {Var(X)} \\sqrt {Var(Y)}}$\n",
    "  为  $X,Y$ 的相关系数，它是无纲量的量（也就是说没有单位，只是个代数值）。\n",
    "\n",
    "- 基本上我们都会用相关系数来衡量两个变量之间的相关程度。相关系数在-1到1之间，小于零表示负相关，大于零表示正相关。绝对值 $|\\rho（X,Y）|$ 表示相关度的大小。越接近1，相关度越大。"
   ]
  },
  {
   "cell_type": "markdown",
   "metadata": {},
   "source": [
    "#### python实现二项分布，协方差和相关系数以及贝叶斯公式；"
   ]
  },
  {
   "cell_type": "code",
   "execution_count": 23,
   "metadata": {},
   "outputs": [
    {
     "name": "stdout",
     "output_type": "stream",
     "text": [
      "0.3125\n"
     ]
    }
   ],
   "source": [
    "def factorial(n):\n",
    "    if n == 0:\n",
    "        return 1\n",
    "    else:\n",
    "        return (n*factorial(n-1))\n",
    "    \n",
    "# 二项分布\n",
    "def Binomial(n,k,p):\n",
    "    if n>=k and p>=0 and p<=1:\n",
    "        Cnk = factorial(n)/factorial(k)/factorial(n-k)\n",
    "        return Cnk*(p**k)*((1-p)**(n-k))\n",
    "    else:\n",
    "        return -1\n",
    "    \n",
    "print(Binomial(5,2,0.5))"
   ]
  },
  {
   "cell_type": "code",
   "execution_count": 84,
   "metadata": {},
   "outputs": [
    {
     "name": "stdout",
     "output_type": "stream",
     "text": [
      "0.8799860814956723\n"
     ]
    }
   ],
   "source": [
    "A = [1,2,1,3,4]\n",
    "P = [.2,.2,.2,.2,.2]\n",
    "B = [2,1,2,6,7]\n",
    "AB= [a*b for a,b in zip(A,B)]\n",
    "PQ= Q = P\n",
    "\n",
    "#期望\n",
    "def Exp(A,P):\n",
    "    return sum(a*p for a,p in zip(A,P))\n",
    "#标准差\n",
    "from math import sqrt\n",
    "def Std(A,P):\n",
    "    E = Exp(A,P)\n",
    "    Var = sum((a-E)**2*p for a,p in zip(A,P))\n",
    "    return sqrt(Var)\n",
    "\n",
    "#协方差 = 联合分布期望 - 单独期望乘积\n",
    "#计算前提，已知XY联合分布\n",
    "#Cov(A,B) = E(XY) - E(X)E(Y)\n",
    "#AB 为A，B联合分布，PQ为AB分布率\n",
    "\n",
    "def Cov(A,B,AB,P,Q,PQ):\n",
    "    return Exp(AB,PQ)-Exp(A,P)*Exp(B,Q)\n",
    "#相关系数\n",
    "def rho(A,B,AB,P,Q,PQ):\n",
    "    return Cov(A,B,AB,P,Q,PQ)/(Std(A,P)*Std(B,Q))\n",
    "print(rho(A,B,AB,P,Q,PQ))"
   ]
  },
  {
   "cell_type": "code",
   "execution_count": 22,
   "metadata": {},
   "outputs": [
    {
     "name": "stdout",
     "output_type": "stream",
     "text": [
      "0.003787123779150887\n"
     ]
    }
   ],
   "source": [
    "#Bayes公式\n",
    "# PAB:[P(A|Bi)],PB:[P(Bi)]\n",
    "def Bayes(PAB,PB,i):\n",
    "    if sum(p for p in PB)!=1:\n",
    "        return -1\n",
    "    base = sum(p*q for p,q in zip(PAB,PB))\n",
    "    PBiA = PAB[i-1]*PB[i-1]/base\n",
    "    return PBiA\n",
    "\n",
    "PAB = [0.95,0.1]\n",
    "PB  = [0.0004,1-0.0004]\n",
    "print(Bayes(PAB,PB,1))"
   ]
  },
  {
   "cell_type": "code",
   "execution_count": null,
   "metadata": {},
   "outputs": [],
   "source": []
  }
 ],
 "metadata": {
  "kernelspec": {
   "display_name": "Python 3",
   "language": "python",
   "name": "python3"
  },
  "language_info": {
   "codemirror_mode": {
    "name": "ipython",
    "version": 3
   },
   "file_extension": ".py",
   "mimetype": "text/x-python",
   "name": "python",
   "nbconvert_exporter": "python",
   "pygments_lexer": "ipython3",
   "version": "3.7.6"
  },
  "toc": {
   "base_numbering": 1,
   "nav_menu": {},
   "number_sections": true,
   "sideBar": true,
   "skip_h1_title": false,
   "title_cell": "Table of Contents",
   "title_sidebar": "Contents",
   "toc_cell": false,
   "toc_position": {},
   "toc_section_display": true,
   "toc_window_display": false
  }
 },
 "nbformat": 4,
 "nbformat_minor": 4
}
