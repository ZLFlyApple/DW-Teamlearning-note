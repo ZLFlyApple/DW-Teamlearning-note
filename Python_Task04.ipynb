{
 "cells": [
  {
   "cell_type": "markdown",
   "metadata": {},
   "source": [
    "### 列表\n",
    "\n",
    "- 列表是有序集合，没有固定大小，能够保存任意数量任意类型（元素可为混合类型）的 Python 对象，语法为 [元素1, 元素2, ..., 元素n]。\n",
    "\n",
    "#### 向列表中添加元素\n",
    "- append 是追加，把一个东西整体添加在列表后，而 extend 是扩展，把一个东西里的所有元素添加在列表后。\n",
    "- list.insert(index, obj) 在编号 index 位置插入 obj。\n",
    "\n",
    "#### 删除列表中元素\n",
    "- list.remove(obj) 移除列表中某个值的第一个匹配项\n",
    "- list.pop([index=-1]) 移除列表中的一个元素（默认最后一个元素），并且返回该元素的值\n",
    "- del var1[, var2 ……] 删除单个或多个对象。pop删指针，del删元素本身。\n",
    "\n",
    "#### [:]浅拷贝\n",
    "在浅拷贝时，拷贝出来的新对象的地址和原对象是不一样的，但是新对象里面的可变元素（如列表）的地址和原对象里的可变元素的地址是相同的，也就是说浅拷贝它拷贝的是浅层次的数据结构（不可变元素），对象里的可变元素作为深层次的数据结构并没有被拷贝到新地址里面去，而是和原对象里的可变元素指向同一个地址，所以在新对象或原对象里对这个可变元素做修改时，两个对象是同时改变的，但是深拷贝不会这样，这个是浅拷贝相对于深拷贝最根本的区别。\n",
    "\n",
    "#### 列表的其它方法\n",
    "- list.count(obj) 统计某个元素在列表中出现的次数\n",
    "- list.index(x[, start[, end]]) 从列表中找出某个值第一个匹配项的索引位置\n",
    "- list.reverse() 反向列表中元素\n",
    "- list.sort(key=None, reverse=False) 对原列表进行排序。"
   ]
  },
  {
   "cell_type": "markdown",
   "metadata": {},
   "source": [
    "#### 练习题："
   ]
  },
  {
   "cell_type": "code",
   "execution_count": 27,
   "metadata": {},
   "outputs": [
    {
     "data": {
      "text/plain": [
       "[20, 15, 9, 9, 9, 8, 6, 6, 5, 5, 2, 2, 2]"
      ]
     },
     "execution_count": 27,
     "metadata": {},
     "output_type": "execute_result"
    }
   ],
   "source": [
    "#1列表操作练习\n",
    "lst = [2, 5, 6, 7, 8, 9, 2, 9, 9]\n",
    "\n",
    "lst.append(15)#在列表的末尾增加元素15\n",
    "lst.insert(int(len(lst)/2),20)#在列表的中间位置插入元素20\n",
    "lst.extend([2, 5, 6])#将列表[2, 5, 6]合并到lst中\n",
    "lst.pop(3)#移除列表中索引为3的元素\n",
    "lst.reverse()#翻转列表里的所有元素\n",
    "\n",
    "lst.sort()#从小到大一次\n",
    "lst.sort(reverse=True)#从大到小一次\n",
    "lst\n",
    "#对列表里的元素进行排序，从小到大一次，"
   ]
  },
  {
   "cell_type": "code",
   "execution_count": 36,
   "metadata": {},
   "outputs": [
    {
     "data": {
      "text/plain": [
       "[2, [8, 12], True]"
      ]
     },
     "execution_count": 36,
     "metadata": {},
     "output_type": "execute_result"
    }
   ],
   "source": [
    "#2请将列表里所有数字修改成原来的两倍\n",
    "lst = [1, [4, 6], True]\n",
    "lst[0] *= 2\n",
    "lst[1][0] *= 2\n",
    "lst[1][1] *= 2\n",
    "lst"
   ]
  },
  {
   "cell_type": "code",
   "execution_count": 53,
   "metadata": {},
   "outputs": [
    {
     "name": "stdout",
     "output_type": "stream",
     "text": [
      "True 1\n"
     ]
    }
   ],
   "source": [
    "#3leetcode 852题 山脉数组的峰顶索引\n",
    "def peakIndexInMountainArray(A):\n",
    "    length = len(A)\n",
    "    start = 0\n",
    "    end = 0\n",
    "    for i in range(length-1):\n",
    "        if A[i+1]>A[i]:\n",
    "            start += 1\n",
    "        else:\n",
    "            break\n",
    "    for i in range(length-1):\n",
    "        if A[-1-i]<A[-2-i]:\n",
    "            end+=1\n",
    "        else:\n",
    "            break\n",
    "    if end>0 and end+start==length-1:\n",
    "        print(True,start)\n",
    "    else:\n",
    "        print(False)\n",
    "        \n",
    "peakIndexInMountainArray([1,9,7])#返回判断结果，若真同时返回山峰索引"
   ]
  },
  {
   "cell_type": "code",
   "execution_count": null,
   "metadata": {},
   "outputs": [],
   "source": []
  }
 ],
 "metadata": {
  "kernelspec": {
   "display_name": "Python 3",
   "language": "python",
   "name": "python3"
  },
  "language_info": {
   "codemirror_mode": {
    "name": "ipython",
    "version": 3
   },
   "file_extension": ".py",
   "mimetype": "text/x-python",
   "name": "python",
   "nbconvert_exporter": "python",
   "pygments_lexer": "ipython3",
   "version": "3.7.6"
  },
  "toc": {
   "base_numbering": 1,
   "nav_menu": {},
   "number_sections": true,
   "sideBar": true,
   "skip_h1_title": false,
   "title_cell": "Table of Contents",
   "title_sidebar": "Contents",
   "toc_cell": false,
   "toc_position": {},
   "toc_section_display": true,
   "toc_window_display": false
  }
 },
 "nbformat": 4,
 "nbformat_minor": 4
}
