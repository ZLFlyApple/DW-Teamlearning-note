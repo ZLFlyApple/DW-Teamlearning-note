{
 "cells": [
  {
   "cell_type": "markdown",
   "metadata": {},
   "source": [
    "## Task2 数据读取与数据分析\n",
    "\n",
    "### 数据读取\n"
   ]
  },
  {
   "cell_type": "code",
   "execution_count": 12,
   "metadata": {},
   "outputs": [],
   "source": [
    "import pandas as pd "
   ]
  },
  {
   "cell_type": "code",
   "execution_count": 35,
   "metadata": {},
   "outputs": [
    {
     "data": {
      "text/html": [
       "<div>\n",
       "<style scoped>\n",
       "    .dataframe tbody tr th:only-of-type {\n",
       "        vertical-align: middle;\n",
       "    }\n",
       "\n",
       "    .dataframe tbody tr th {\n",
       "        vertical-align: top;\n",
       "    }\n",
       "\n",
       "    .dataframe thead th {\n",
       "        text-align: right;\n",
       "    }\n",
       "</style>\n",
       "<table border=\"1\" class=\"dataframe\">\n",
       "  <thead>\n",
       "    <tr style=\"text-align: right;\">\n",
       "      <th></th>\n",
       "      <th>label</th>\n",
       "      <th>text</th>\n",
       "    </tr>\n",
       "  </thead>\n",
       "  <tbody>\n",
       "    <tr>\n",
       "      <th>0</th>\n",
       "      <td>2</td>\n",
       "      <td>2967 6758 339 2021 1854 3731 4109 3792 4149 15...</td>\n",
       "    </tr>\n",
       "    <tr>\n",
       "      <th>1</th>\n",
       "      <td>11</td>\n",
       "      <td>4464 486 6352 5619 2465 4802 1452 3137 5778 54...</td>\n",
       "    </tr>\n",
       "    <tr>\n",
       "      <th>2</th>\n",
       "      <td>3</td>\n",
       "      <td>7346 4068 5074 3747 5681 6093 1777 2226 7354 6...</td>\n",
       "    </tr>\n",
       "    <tr>\n",
       "      <th>3</th>\n",
       "      <td>2</td>\n",
       "      <td>7159 948 4866 2109 5520 2490 211 3956 5520 549...</td>\n",
       "    </tr>\n",
       "    <tr>\n",
       "      <th>4</th>\n",
       "      <td>3</td>\n",
       "      <td>3646 3055 3055 2490 4659 6065 3370 5814 2465 5...</td>\n",
       "    </tr>\n",
       "  </tbody>\n",
       "</table>\n",
       "</div>"
      ],
      "text/plain": [
       "   label                                               text\n",
       "0      2  2967 6758 339 2021 1854 3731 4109 3792 4149 15...\n",
       "1     11  4464 486 6352 5619 2465 4802 1452 3137 5778 54...\n",
       "2      3  7346 4068 5074 3747 5681 6093 1777 2226 7354 6...\n",
       "3      2  7159 948 4866 2109 5520 2490 211 3956 5520 549...\n",
       "4      3  3646 3055 3055 2490 4659 6065 3370 5814 2465 5..."
      ]
     },
     "metadata": {},
     "output_type": "display_data"
    }
   ],
   "source": [
    "#读取数据\n",
    "train_df = pd.read_csv('./input/train_set.csv', sep='\\t')\n",
    "#testa_df = pd.read_csv('./input/test_a.csv', sep='\\t')\n",
    "#testa_sample = pd.read_csv('./input/test_a_sample_submit.csv', sep='\\t')\n",
    "\n",
    "display(train_df.head())\n"
   ]
  },
  {
   "cell_type": "markdown",
   "metadata": {},
   "source": [
    "### 训练数据数据分析\n",
    "通过数据分析找出一些分布规律的。\n",
    "\n",
    "此步骤我们读取了所有的训练集数据，在此我们通过数据分析希望得出以下结论：\n",
    "\n",
    "- 赛题数据中，新闻文本的长度是多少？\n",
    "- 赛题数据的类别分布是怎么样的，哪些类别比较多？\n",
    "- 赛题数据中，字符分布是怎么样的？\n",
    "\n",
    "#### 句子（此处指整段新闻文本）长度分析\n",
    "\n",
    "在赛题数据中每行句子的字符使用空格进行隔开，所以可以直接统计单词的个数来得到每个句子的长度。统计并如下："
   ]
  },
  {
   "cell_type": "code",
   "execution_count": 36,
   "metadata": {},
   "outputs": [
    {
     "name": "stdout",
     "output_type": "stream",
     "text": [
      "Populating the interactive namespace from numpy and matplotlib\n",
      "count    200000.000000\n",
      "mean        907.207110\n",
      "std         996.029036\n",
      "min           2.000000\n",
      "25%         374.000000\n",
      "50%         676.000000\n",
      "75%        1131.000000\n",
      "max       57921.000000\n",
      "Name: text_len, dtype: float64\n"
     ]
    }
   ],
   "source": [
    "%pylab inline\n",
    "train_df['text_len'] = train_df['text'].apply(lambda x: len(x.split(' ')))\n",
    "print(train_df['text_len'].describe())"
   ]
  },
  {
   "cell_type": "code",
   "execution_count": 37,
   "metadata": {},
   "outputs": [
    {
     "data": {
      "text/plain": [
       "Text(0.5, 1.0, 'Histogram of char count')"
      ]
     },
     "execution_count": 37,
     "metadata": {},
     "output_type": "execute_result"
    },
    {
     "data": {
      "image/png": "[encoded data removed]",
      "text/plain": [
       "<Figure size 432x288 with 1 Axes>"
      ]
     },
     "metadata": {
      "needs_background": "light"
     },
     "output_type": "display_data"
    }
   ],
   "source": [
    "plt.hist(train_df['text_len'], bins=200)#绘制条形图，条数bins，越大越密\n",
    "plt.xlabel('Text char count')\n",
    "plt.title(\"Histogram of char count\")"
   ]
  },
  {
   "cell_type": "markdown",
   "metadata": {},
   "source": [
    "#### 新闻类别分布\n",
    "具体统计每类新闻的样本个数。查看分布是否均匀。"
   ]
  },
  {
   "cell_type": "code",
   "execution_count": 38,
   "metadata": {},
   "outputs": [
    {
     "data": {
      "text/plain": [
       "Text(0.5, 0, 'category')"
      ]
     },
     "execution_count": 38,
     "metadata": {},
     "output_type": "execute_result"
    },
    {
     "data": {
      "image/png": "[encoded data removed]",
      "text/plain": [
       "<Figure size 432x288 with 1 Axes>"
      ]
     },
     "metadata": {
      "needs_background": "light"
     },
     "output_type": "display_data"
    }
   ],
   "source": [
    "train_df['label'].value_counts().plot(kind='bar')#计数，画图\n",
    "plt.title('News class count')\n",
    "plt.xlabel(\"category\")"
   ]
  },
  {
   "cell_type": "markdown",
   "metadata": {},
   "source": [
    "#### 字符分布统计\n",
    "接下来可以统计每个字符出现的次数，首先可以将训练集中所有的句子进行拼接进而划分为字符，并统计每个字符的个数。\n",
    "\n",
    "从统计结果中可以看出，在训练集中总共包括6869个字，其中编号3750的字出现的次数最多，编号3133的字出现的次数最少。"
   ]
  },
  {
   "cell_type": "code",
   "execution_count": 39,
   "metadata": {},
   "outputs": [
    {
     "name": "stdout",
     "output_type": "stream",
     "text": [
      "5\n"
     ]
    }
   ],
   "source": [
    "#collections.Counter()测试\n",
    "from collections import Counter\n",
    "s = \"hello-python-hello-world\"\n",
    "a = Counter(s)\n",
    "print(a['l'])"
   ]
  },
  {
   "cell_type": "code",
   "execution_count": 22,
   "metadata": {},
   "outputs": [
    {
     "name": "stdout",
     "output_type": "stream",
     "text": [
      "6869\n",
      "('3750', 7482224)\n",
      "('3133', 1)\n"
     ]
    }
   ],
   "source": [
    "\n",
    "from collections import Counter\n",
    "all_lines = ' '.join(list(train_df['text']))#合成一列\n",
    "word_count = Counter(all_lines.split(\" \"))#计数\n",
    "'''\n",
    "from collections import Counter\n",
    "s = \"hello-python-hello-world\"\n",
    "a = Counter(s)\n",
    "print(a.items())\n",
    "# 结果 \n",
    "dict_items([('h', 3), ('e', 2), ('l', 5), ('o', 4), ('-', 3), ('p', 1), ('y', 1), ('t', 1), ('n', 1), ('w', 1), ('r', 1), ('d', 1)])\n",
    "————————————————\n",
    "版权声明：本文为CSDN博主「ch_improve」的原创文章，遵循CC 4.0 BY-SA版权协议，转载请附上原文出处链接及本声明。\n",
    "原文链接：https://blog.csdn.net/ch_improve/article/details/89388389\n",
    "'''\n",
    "word_count = sorted(word_count.items(), key=lambda d:d[1], reverse = True)\n",
    "#输出字符种类\n",
    "print(len(word_count))\n",
    "#输出第一名与最后一名\n",
    "print(word_count[0])\n",
    "print(word_count[-1])"
   ]
  },
  {
   "cell_type": "markdown",
   "metadata": {},
   "source": [
    "这里还可以根据字在每个句子的出现情况，反推出标点符号。下面代码统计了不同字符在句子中出现的次数，其中字符3750，字符900和字符648在20w新闻的覆盖率接近99%，很有可能是标点符号。"
   ]
  },
  {
   "cell_type": "code",
   "execution_count": 41,
   "metadata": {},
   "outputs": [
    {
     "name": "stdout",
     "output_type": "stream",
     "text": [
      "('3750', 197997)\n",
      "('900', 197653)\n",
      "('648', 191975)\n"
     ]
    }
   ],
   "source": [
    "from collections import Counter\n",
    "train_df['text_unique'] = train_df['text'].apply(lambda x: ' '.join(list(set(x.split(' ')))))#set去重list拼接\n",
    "all_lines = ' '.join(list(train_df['text_unique']))\n",
    "word_count = Counter(all_lines.split(\" \"))\n",
    "word_count = sorted(word_count.items(), key=lambda d:(d[1]), reverse = True)\n",
    "\n",
    "#输出前三名\n",
    "print(word_count[0])\n",
    "print(word_count[1])\n",
    "print(word_count[2])"
   ]
  },
  {
   "cell_type": "markdown",
   "metadata": {},
   "source": [
    "### 数据分析的结论\n",
    "通过上述分析我们可以得出以下结论：\n",
    "\n",
    "- 赛题中每个新闻包含的字符个数平均为1000个，还有一些新闻字符较长；\n",
    "- 赛题中新闻类别分布不均匀，科技类新闻样本量接近4w，星座类新闻样本量不到1k；\n",
    "- 赛题总共包括7000-8000个字符；\n",
    "- 通过数据分析，我们还可以得出以下结论：\n",
    "\n",
    "    - 每个新闻平均字符个数较多，可能需要截断；（？）\n",
    "\n",
    "    - 由于【类别不均衡】，会严重影响模型的精度；\n",
    "\n",
    "\n"
   ]
  },
  {
   "cell_type": "markdown",
   "metadata": {},
   "source": [
    "### 本章作业\n",
    "1. 假设字符3750，字符900和字符648是句子的标点符号，请分析赛题每篇新闻平均由多少个句子构成？\n",
    "2. 统计每类新闻中出现次数对多的字符"
   ]
  },
  {
   "cell_type": "code",
   "execution_count": 42,
   "metadata": {},
   "outputs": [
    {
     "data": {
      "text/html": [
       "<div>\n",
       "<style scoped>\n",
       "    .dataframe tbody tr th:only-of-type {\n",
       "        vertical-align: middle;\n",
       "    }\n",
       "\n",
       "    .dataframe tbody tr th {\n",
       "        vertical-align: top;\n",
       "    }\n",
       "\n",
       "    .dataframe thead th {\n",
       "        text-align: right;\n",
       "    }\n",
       "</style>\n",
       "<table border=\"1\" class=\"dataframe\">\n",
       "  <thead>\n",
       "    <tr style=\"text-align: right;\">\n",
       "      <th></th>\n",
       "      <th>label</th>\n",
       "      <th>text</th>\n",
       "      <th>text_len</th>\n",
       "      <th>text_unique</th>\n",
       "      <th>marknum</th>\n",
       "    </tr>\n",
       "  </thead>\n",
       "  <tbody>\n",
       "    <tr>\n",
       "      <th>0</th>\n",
       "      <td>2</td>\n",
       "      <td>2967 6758 339 2021 1854 3731 4109 3792 4149 15...</td>\n",
       "      <td>1057</td>\n",
       "      <td>5698 2570 6811 2456 4819 4599 910 2646 7426 20...</td>\n",
       "      <td>118</td>\n",
       "    </tr>\n",
       "    <tr>\n",
       "      <th>1</th>\n",
       "      <td>11</td>\n",
       "      <td>4464 486 6352 5619 2465 4802 1452 3137 5778 54...</td>\n",
       "      <td>486</td>\n",
       "      <td>6293 6407 7010 3263 5542 3002 656 669 6811 242...</td>\n",
       "      <td>50</td>\n",
       "    </tr>\n",
       "    <tr>\n",
       "      <th>2</th>\n",
       "      <td>3</td>\n",
       "      <td>7346 4068 5074 3747 5681 6093 1777 2226 7354 6...</td>\n",
       "      <td>764</td>\n",
       "      <td>2434 1078 3196 2570 2282 6811 1777 893 5822 48...</td>\n",
       "      <td>48</td>\n",
       "    </tr>\n",
       "    <tr>\n",
       "      <th>3</th>\n",
       "      <td>2</td>\n",
       "      <td>7159 948 4866 2109 5520 2490 211 3956 5520 549...</td>\n",
       "      <td>1570</td>\n",
       "      <td>5698 3196 4183 2570 1777 2211 5041 893 6567 12...</td>\n",
       "      <td>157</td>\n",
       "    </tr>\n",
       "    <tr>\n",
       "      <th>4</th>\n",
       "      <td>3</td>\n",
       "      <td>3646 3055 3055 2490 4659 6065 3370 5814 2465 5...</td>\n",
       "      <td>307</td>\n",
       "      <td>6515 4351 2827 6887 1324 6038 1697 3585 3686 1...</td>\n",
       "      <td>28</td>\n",
       "    </tr>\n",
       "  </tbody>\n",
       "</table>\n",
       "</div>"
      ],
      "text/plain": [
       "   label                                               text  text_len  \\\n",
       "0      2  2967 6758 339 2021 1854 3731 4109 3792 4149 15...      1057   \n",
       "1     11  4464 486 6352 5619 2465 4802 1452 3137 5778 54...       486   \n",
       "2      3  7346 4068 5074 3747 5681 6093 1777 2226 7354 6...       764   \n",
       "3      2  7159 948 4866 2109 5520 2490 211 3956 5520 549...      1570   \n",
       "4      3  3646 3055 3055 2490 4659 6065 3370 5814 2465 5...       307   \n",
       "\n",
       "                                         text_unique  marknum  \n",
       "0  5698 2570 6811 2456 4819 4599 910 2646 7426 20...      118  \n",
       "1  6293 6407 7010 3263 5542 3002 656 669 6811 242...       50  \n",
       "2  2434 1078 3196 2570 2282 6811 1777 893 5822 48...       48  \n",
       "3  5698 3196 4183 2570 1777 2211 5041 893 6567 12...      157  \n",
       "4  6515 4351 2827 6887 1324 6038 1697 3585 3686 1...       28  "
      ]
     },
     "execution_count": 42,
     "metadata": {},
     "output_type": "execute_result"
    }
   ],
   "source": [
    "#1\\假设字符3750，字符900和字符648是句子的标点符号，请分析赛题每篇新闻平均由多少个句子构成？\n",
    "train_df['marknum'] = train_df['text'].apply(lambda x:x.split(' ').count('3750')+x.split(' ').count('900')+x.split(' ').count('648'))\n",
    "train_df.head()"
   ]
  },
  {
   "cell_type": "code",
   "execution_count": 44,
   "metadata": {},
   "outputs": [
    {
     "name": "stdout",
     "output_type": "stream",
     "text": [
      "平均句子数78\n"
     ]
    }
   ],
   "source": [
    "print('平均句子数'+str(int(train_df['marknum'].mean())))"
   ]
  },
  {
   "cell_type": "code",
   "execution_count": 57,
   "metadata": {},
   "outputs": [
    {
     "name": "stdout",
     "output_type": "stream",
     "text": [
      "0 ('3370', 503768)\n",
      "1 ('3370', 626708)\n",
      "2 ('7399', 351894)\n",
      "3 ('6122', 187933)\n",
      "4 ('4411', 120442)\n",
      "5 ('6122', 159125)\n",
      "6 ('6248', 193757)\n",
      "7 ('3370', 159156)\n",
      "8 ('6122', 57345)\n",
      "9 ('7328', 46477)\n",
      "10 ('3370', 67780)\n",
      "11 ('4939', 18591)\n",
      "12 ('4464', 51426)\n",
      "13 ('4939', 9651)\n"
     ]
    }
   ],
   "source": [
    "#2\\统计每类新闻中出现次数对多的字符（不考虑3个标点符号）\n",
    "from collections import Counter\n",
    "for i in range(14):\n",
    "    all_lines = ' '.join(list(train_df[train_df['label']==i]['text']))#合成一列\n",
    "    word_count = Counter(all_lines.split(\" \"))#计数\n",
    "    word_count = sorted(word_count.items(), key=lambda d:d[1], reverse = True)\n",
    "    for j in range(4):\n",
    "        if word_count[j][0] not in ['3750','900','648']:\n",
    "            print(i,word_count[j])\n",
    "            break"
   ]
  },
  {
   "cell_type": "code",
   "execution_count": null,
   "metadata": {},
   "outputs": [],
   "source": []
  }
 ],
 "metadata": {
  "kernelspec": {
   "display_name": "Python 3",
   "language": "python",
   "name": "python3"
  },
  "language_info": {
   "codemirror_mode": {
    "name": "ipython",
    "version": 3
   },
   "file_extension": ".py",
   "mimetype": "text/x-python",
   "name": "python",
   "nbconvert_exporter": "python",
   "pygments_lexer": "ipython3",
   "version": "3.7.6"
  },
  "toc": {
   "base_numbering": 1,
   "nav_menu": {},
   "number_sections": true,
   "sideBar": true,
   "skip_h1_title": false,
   "title_cell": "Table of Contents",
   "title_sidebar": "Contents",
   "toc_cell": false,
   "toc_position": {},
   "toc_section_display": true,
   "toc_window_display": false
  }
 },
 "nbformat": 4,
 "nbformat_minor": 4
}
