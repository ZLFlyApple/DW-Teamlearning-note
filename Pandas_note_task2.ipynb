{
 "cells": [
  {
   "cell_type": "markdown",
   "metadata": {},
   "source": [
    "## 七、问题与练习"
   ]
  },
  {
   "cell_type": "markdown",
   "metadata": {},
   "source": [
    "### 1. 问题\n",
    "#### 【问题一】 如何更改列或行的顺序？如何交换奇偶行（列）的顺序？\n",
    "#### 【问题二】 如果要选出DataFrame的某个子集，请给出尽可能多的方法实现。\n",
    "#### 【问题三】 query函数比其他索引方法的速度更慢吗？在什么场合使用什么索引最高效？\n",
    "#### 【问题四】 单级索引能使用Slice对象吗？能的话怎么使用，请给出一个例子。\n",
    "#### 【问题五】 如何快速找出某一列的缺失值所在索引？\n",
    "#### 【问题六】 索引设定中的所有方法分别适用于哪些场合？怎么直接把某个DataFrame的索引换成任意给定同长度的索引？\n",
    "#### 【问题七】 多级索引有什么适用场合？\n",
    "#### 【问题八】 什么时候需要重复元素处理？"
   ]
  },
  {
   "cell_type": "code",
   "execution_count": 92,
   "metadata": {},
   "outputs": [
    {
     "data": {
      "text/html": [
       "<div>\n",
       "<style scoped>\n",
       "    .dataframe tbody tr th:only-of-type {\n",
       "        vertical-align: middle;\n",
       "    }\n",
       "\n",
       "    .dataframe tbody tr th {\n",
       "        vertical-align: top;\n",
       "    }\n",
       "\n",
       "    .dataframe thead th {\n",
       "        text-align: right;\n",
       "    }\n",
       "</style>\n",
       "<table border=\"1\" class=\"dataframe\">\n",
       "  <thead>\n",
       "    <tr style=\"text-align: right;\">\n",
       "      <th></th>\n",
       "      <th>School</th>\n",
       "      <th>Class</th>\n",
       "      <th>Gender</th>\n",
       "      <th>Address</th>\n",
       "      <th>Height</th>\n",
       "      <th>Weight</th>\n",
       "      <th>Math</th>\n",
       "      <th>Physics</th>\n",
       "    </tr>\n",
       "    <tr>\n",
       "      <th>ID</th>\n",
       "      <th></th>\n",
       "      <th></th>\n",
       "      <th></th>\n",
       "      <th></th>\n",
       "      <th></th>\n",
       "      <th></th>\n",
       "      <th></th>\n",
       "      <th></th>\n",
       "    </tr>\n",
       "  </thead>\n",
       "  <tbody>\n",
       "    <tr>\n",
       "      <th>1101</th>\n",
       "      <td>S_1</td>\n",
       "      <td>C_1</td>\n",
       "      <td>M</td>\n",
       "      <td>street_1</td>\n",
       "      <td>173</td>\n",
       "      <td>63</td>\n",
       "      <td>34.0</td>\n",
       "      <td>A+</td>\n",
       "    </tr>\n",
       "    <tr>\n",
       "      <th>1102</th>\n",
       "      <td>S_1</td>\n",
       "      <td>C_1</td>\n",
       "      <td>F</td>\n",
       "      <td>street_2</td>\n",
       "      <td>192</td>\n",
       "      <td>73</td>\n",
       "      <td>32.5</td>\n",
       "      <td>B+</td>\n",
       "    </tr>\n",
       "    <tr>\n",
       "      <th>1103</th>\n",
       "      <td>S_1</td>\n",
       "      <td>C_1</td>\n",
       "      <td>M</td>\n",
       "      <td>street_2</td>\n",
       "      <td>186</td>\n",
       "      <td>82</td>\n",
       "      <td>87.2</td>\n",
       "      <td>B+</td>\n",
       "    </tr>\n",
       "    <tr>\n",
       "      <th>1104</th>\n",
       "      <td>S_1</td>\n",
       "      <td>C_1</td>\n",
       "      <td>F</td>\n",
       "      <td>street_2</td>\n",
       "      <td>167</td>\n",
       "      <td>81</td>\n",
       "      <td>80.4</td>\n",
       "      <td>B-</td>\n",
       "    </tr>\n",
       "    <tr>\n",
       "      <th>1105</th>\n",
       "      <td>S_1</td>\n",
       "      <td>C_1</td>\n",
       "      <td>F</td>\n",
       "      <td>street_4</td>\n",
       "      <td>159</td>\n",
       "      <td>64</td>\n",
       "      <td>84.8</td>\n",
       "      <td>B+</td>\n",
       "    </tr>\n",
       "  </tbody>\n",
       "</table>\n",
       "</div>"
      ],
      "text/plain": [
       "     School Class Gender   Address  Height  Weight  Math Physics\n",
       "ID                                                              \n",
       "1101    S_1   C_1      M  street_1     173      63  34.0      A+\n",
       "1102    S_1   C_1      F  street_2     192      73  32.5      B+\n",
       "1103    S_1   C_1      M  street_2     186      82  87.2      B+\n",
       "1104    S_1   C_1      F  street_2     167      81  80.4      B-\n",
       "1105    S_1   C_1      F  street_4     159      64  84.8      B+"
      ]
     },
     "execution_count": 92,
     "metadata": {},
     "output_type": "execute_result"
    }
   ],
   "source": [
    "import numpy as np\n",
    "import pandas as pd\n",
    "df = pd.read_csv('data/table.csv',index_col='ID').sort_index()\n",
    "df.head()"
   ]
  },
  {
   "cell_type": "code",
   "execution_count": 93,
   "metadata": {},
   "outputs": [
    {
     "data": {
      "text/html": [
       "<div>\n",
       "<style scoped>\n",
       "    .dataframe tbody tr th:only-of-type {\n",
       "        vertical-align: middle;\n",
       "    }\n",
       "\n",
       "    .dataframe tbody tr th {\n",
       "        vertical-align: top;\n",
       "    }\n",
       "\n",
       "    .dataframe thead th {\n",
       "        text-align: right;\n",
       "    }\n",
       "</style>\n",
       "<table border=\"1\" class=\"dataframe\">\n",
       "  <thead>\n",
       "    <tr style=\"text-align: right;\">\n",
       "      <th></th>\n",
       "      <th>School</th>\n",
       "      <th>Gender</th>\n",
       "      <th>Height</th>\n",
       "      <th>Math</th>\n",
       "    </tr>\n",
       "    <tr>\n",
       "      <th>ID</th>\n",
       "      <th></th>\n",
       "      <th></th>\n",
       "      <th></th>\n",
       "      <th></th>\n",
       "    </tr>\n",
       "  </thead>\n",
       "  <tbody>\n",
       "    <tr>\n",
       "      <th>1104</th>\n",
       "      <td>S_1</td>\n",
       "      <td>M</td>\n",
       "      <td>173</td>\n",
       "      <td>34.0</td>\n",
       "    </tr>\n",
       "    <tr>\n",
       "      <th>1102</th>\n",
       "      <td>S_1</td>\n",
       "      <td>F</td>\n",
       "      <td>192</td>\n",
       "      <td>32.5</td>\n",
       "    </tr>\n",
       "    <tr>\n",
       "      <th>1103</th>\n",
       "      <td>S_1</td>\n",
       "      <td>M</td>\n",
       "      <td>186</td>\n",
       "      <td>87.2</td>\n",
       "    </tr>\n",
       "    <tr>\n",
       "      <th>1101</th>\n",
       "      <td>S_1</td>\n",
       "      <td>F</td>\n",
       "      <td>167</td>\n",
       "      <td>80.4</td>\n",
       "    </tr>\n",
       "    <tr>\n",
       "      <th>1105</th>\n",
       "      <td>S_1</td>\n",
       "      <td>F</td>\n",
       "      <td>159</td>\n",
       "      <td>84.8</td>\n",
       "    </tr>\n",
       "  </tbody>\n",
       "</table>\n",
       "</div>"
      ],
      "text/plain": [
       "     School Gender  Height  Math\n",
       "ID                              \n",
       "1104    S_1      M     173  34.0\n",
       "1102    S_1      F     192  32.5\n",
       "1103    S_1      M     186  87.2\n",
       "1101    S_1      F     167  80.4\n",
       "1105    S_1      F     159  84.8"
      ]
     },
     "execution_count": 93,
     "metadata": {},
     "output_type": "execute_result"
    }
   ],
   "source": [
    "#【问题一】 如何更改列或行的顺序？如何交换奇偶行（列）的顺序？\n",
    "#提出index和columns\n",
    "idxlist = (df.index.values)\n",
    "collist = (df.columns.values)\n",
    "#调整index和columns位置\n",
    "i = 0;j = 3\n",
    "idxlist[i],idxlist[j] = idxlist[j],idxlist[i]\n",
    "collist = collist[0::2]\n",
    "#使用df.reindex()。修改原始df的。\n",
    "df.reindex(index = idxlist, columns = collist).head()"
   ]
  },
  {
   "cell_type": "code",
   "execution_count": 94,
   "metadata": {},
   "outputs": [
    {
     "name": "stdout",
     "output_type": "stream",
     "text": [
      "700 µs ± 8.61 µs per loop (mean ± std. dev. of 7 runs, 1000 loops each)\n",
      "971 µs ± 18.6 µs per loop (mean ± std. dev. of 7 runs, 1000 loops each)\n"
     ]
    },
    {
     "data": {
      "text/html": [
       "<div>\n",
       "<style scoped>\n",
       "    .dataframe tbody tr th:only-of-type {\n",
       "        vertical-align: middle;\n",
       "    }\n",
       "\n",
       "    .dataframe tbody tr th {\n",
       "        vertical-align: top;\n",
       "    }\n",
       "\n",
       "    .dataframe thead th {\n",
       "        text-align: right;\n",
       "    }\n",
       "</style>\n",
       "<table border=\"1\" class=\"dataframe\">\n",
       "  <thead>\n",
       "    <tr style=\"text-align: right;\">\n",
       "      <th></th>\n",
       "      <th>Height</th>\n",
       "      <th>Weight</th>\n",
       "      <th>Math</th>\n",
       "    </tr>\n",
       "    <tr>\n",
       "      <th>ID</th>\n",
       "      <th></th>\n",
       "      <th></th>\n",
       "      <th></th>\n",
       "    </tr>\n",
       "  </thead>\n",
       "  <tbody>\n",
       "    <tr>\n",
       "      <th>1102</th>\n",
       "      <td>192</td>\n",
       "      <td>73</td>\n",
       "      <td>32.5</td>\n",
       "    </tr>\n",
       "    <tr>\n",
       "      <th>1105</th>\n",
       "      <td>159</td>\n",
       "      <td>64</td>\n",
       "      <td>84.8</td>\n",
       "    </tr>\n",
       "    <tr>\n",
       "      <th>1203</th>\n",
       "      <td>160</td>\n",
       "      <td>53</td>\n",
       "      <td>58.8</td>\n",
       "    </tr>\n",
       "    <tr>\n",
       "      <th>1301</th>\n",
       "      <td>161</td>\n",
       "      <td>68</td>\n",
       "      <td>31.5</td>\n",
       "    </tr>\n",
       "    <tr>\n",
       "      <th>1304</th>\n",
       "      <td>195</td>\n",
       "      <td>70</td>\n",
       "      <td>85.2</td>\n",
       "    </tr>\n",
       "  </tbody>\n",
       "</table>\n",
       "</div>"
      ],
      "text/plain": [
       "      Height  Weight  Math\n",
       "ID                        \n",
       "1102     192      73  32.5\n",
       "1105     159      64  84.8\n",
       "1203     160      53  58.8\n",
       "1301     161      68  31.5\n",
       "1304     195      70  85.2"
      ]
     },
     "execution_count": 94,
     "metadata": {},
     "output_type": "execute_result"
    }
   ],
   "source": [
    "#【问题二】 如果要选出DataFrame的某个子集，请给出尽可能多的方法实现。\n",
    "%timeit df.loc[df['Height']>165,'Height':'Math']#全闭\n",
    "df.iloc[1:15:3,4:7]#半闭半开\n",
    "%timeit df[df['Height']>165][['Height','Weight','Math']]\n",
    "df.query('(ID in [1102,1105,1203,1301,1304])')[['Height','Weight','Math']]"
   ]
  },
  {
   "cell_type": "code",
   "execution_count": 95,
   "metadata": {},
   "outputs": [
    {
     "name": "stdout",
     "output_type": "stream",
     "text": [
      "416 µs ± 4.18 µs per loop (mean ± std. dev. of 7 runs, 1000 loops each)\n",
      "2.37 ms ± 234 µs per loop (mean ± std. dev. of 7 runs, 100 loops each)\n"
     ]
    },
    {
     "data": {
      "text/plain": [
       "\"\\n1、一般来说，[]操作符常用于列选择或布尔选择，筛条目，操作只能输入一个维度。尽量避免行的index选择。优点表达简单。\\n2、逻辑较简单的索引使用iloc/loc，可以调用函数，并同时控制两个维度。loc可看作[]的扩充：\\n    避免chained assignment\\n    在对数据赋值使可以有以下两种操作：\\n        df.loc[df.C>0.5,'C']=0.6\\n        df[df.C>0.5][['C']]=0.6\\n    上面的操作可以在df上直接修改数据，而下面的操作被称为chained assignment,会产生SettingWithCopyWarning，官网上的解释：indexing-view-versus-copy。\\n    直观来说就使用chained assignment无法预测是否能对数据df进行修改，使用loc一定是直接在df上修改数据，因此建议使用loc\\n    \\n3、数据量较大时复杂索引时使用query，bool表达式。\\neval/query用在数据（df.values.nbytes>1万）性能提升明显；传统方法在小数组时运行得更快\\n\""
      ]
     },
     "execution_count": 95,
     "metadata": {},
     "output_type": "execute_result"
    }
   ],
   "source": [
    "## 【问题三】 query函数比其他索引方法的速度更慢吗？在什么场合使用什么索引最高效？\n",
    "%timeit df.loc[1102:2401:3,'Height':'Math']\n",
    "%timeit df.query('(Address in [\"street_6\",\"street_7\"])&(Weight>(70+10))&(ID in [1303,2304,2402])')\n",
    "#慢很多，\n",
    "'''\n",
    "1、一般来说，[]操作符常用于列选择或布尔选择，筛条目，操作只能输入一个维度。尽量避免行的index选择。优点表达简单。\n",
    "2、逻辑较简单的索引使用iloc/loc，可以调用函数，并同时控制两个维度。loc可看作[]的扩充：\n",
    "    避免chained assignment\n",
    "    在对数据赋值使可以有以下两种操作：\n",
    "        df.loc[df.C>0.5,'C']=0.6\n",
    "        df[df.C>0.5][['C']]=0.6\n",
    "    上面的操作可以在df上直接修改数据，而下面的操作被称为chained assignment,会产生SettingWithCopyWarning，官网上的解释：indexing-view-versus-copy。\n",
    "    直观来说就使用chained assignment无法预测是否能对数据df进行修改，使用loc一定是直接在df上修改数据，因此建议使用loc\n",
    "    \n",
    "3、数据量较大时复杂索引时使用query，bool表达式。\n",
    "eval/query用在数据（df.values.nbytes>1万）性能提升明显；传统方法在小数组时运行得更快\n",
    "'''\n"
   ]
  },
  {
   "cell_type": "code",
   "execution_count": 96,
   "metadata": {},
   "outputs": [
    {
     "data": {
      "text/html": [
       "<div>\n",
       "<style scoped>\n",
       "    .dataframe tbody tr th:only-of-type {\n",
       "        vertical-align: middle;\n",
       "    }\n",
       "\n",
       "    .dataframe tbody tr th {\n",
       "        vertical-align: top;\n",
       "    }\n",
       "\n",
       "    .dataframe thead th {\n",
       "        text-align: right;\n",
       "    }\n",
       "</style>\n",
       "<table border=\"1\" class=\"dataframe\">\n",
       "  <thead>\n",
       "    <tr style=\"text-align: right;\">\n",
       "      <th></th>\n",
       "      <th>0</th>\n",
       "      <th>3</th>\n",
       "      <th>4</th>\n",
       "      <th>5</th>\n",
       "      <th>6</th>\n",
       "      <th>8</th>\n",
       "    </tr>\n",
       "  </thead>\n",
       "  <tbody>\n",
       "    <tr>\n",
       "      <th>3</th>\n",
       "      <td>0.448650</td>\n",
       "      <td>0.094556</td>\n",
       "      <td>0.059766</td>\n",
       "      <td>0.674296</td>\n",
       "      <td>0.666517</td>\n",
       "      <td>0.620790</td>\n",
       "    </tr>\n",
       "    <tr>\n",
       "      <th>4</th>\n",
       "      <td>0.516195</td>\n",
       "      <td>0.751881</td>\n",
       "      <td>0.890548</td>\n",
       "      <td>0.147978</td>\n",
       "      <td>0.709756</td>\n",
       "      <td>0.093256</td>\n",
       "    </tr>\n",
       "    <tr>\n",
       "      <th>5</th>\n",
       "      <td>0.639662</td>\n",
       "      <td>0.360989</td>\n",
       "      <td>0.521474</td>\n",
       "      <td>0.486887</td>\n",
       "      <td>0.754230</td>\n",
       "      <td>0.846486</td>\n",
       "    </tr>\n",
       "    <tr>\n",
       "      <th>6</th>\n",
       "      <td>0.935597</td>\n",
       "      <td>0.345319</td>\n",
       "      <td>0.470610</td>\n",
       "      <td>0.693860</td>\n",
       "      <td>0.412275</td>\n",
       "      <td>0.997469</td>\n",
       "    </tr>\n",
       "  </tbody>\n",
       "</table>\n",
       "</div>"
      ],
      "text/plain": [
       "          0         3         4         5         6         8\n",
       "3  0.448650  0.094556  0.059766  0.674296  0.666517  0.620790\n",
       "4  0.516195  0.751881  0.890548  0.147978  0.709756  0.093256\n",
       "5  0.639662  0.360989  0.521474  0.486887  0.754230  0.846486\n",
       "6  0.935597  0.345319  0.470610  0.693860  0.412275  0.997469"
      ]
     },
     "execution_count": 96,
     "metadata": {},
     "output_type": "execute_result"
    }
   ],
   "source": [
    "#【问题四】 单级索引能使用Slice对象吗？能的话怎么使用，请给出一个例子。\n",
    "#可以使用。\n",
    "df_s = pd.DataFrame(np.random.rand(9,9))\n",
    "idx=pd.IndexSlice\n",
    "df_s.loc[idx[3:6],idx[df_s.sum()>4]]"
   ]
  },
  {
   "cell_type": "code",
   "execution_count": 97,
   "metadata": {},
   "outputs": [
    {
     "name": "stdout",
     "output_type": "stream",
     "text": [
      "     A  B    C\n",
      "1   10  a    e\n",
      "2    2  b    f\n",
      "6    3  b  NaN\n",
      "5  100  c  NaN\n",
      "7   -1  1  NaN\n"
     ]
    },
    {
     "data": {
      "text/plain": [
       "Int64Index([6, 5, 7], dtype='int64')"
      ]
     },
     "execution_count": 97,
     "metadata": {},
     "output_type": "execute_result"
    }
   ],
   "source": [
    "#【问题五】 如何快速找出某一列的缺失值所在索引？\n",
    "df_f = pd.DataFrame({'A':[10,2,3,100,-1]},index=[1,2,6,5,7])\n",
    "df_f['B']=list('abbc1')\n",
    "df_f = df_f.assign(C=pd.Series(list('deffg')))#Seires默认index从0开始，错位\n",
    "print(df_f)\n",
    "\n",
    "df_f[df_f['C'].isna()].index"
   ]
  },
  {
   "cell_type": "code",
   "execution_count": 128,
   "metadata": {},
   "outputs": [
    {
     "name": "stdout",
     "output_type": "stream",
     "text": [
      "原始       Weight  Height\n",
      "ID                  \n",
      "1101       0       0\n",
      "1102       4       4\n",
      "1103       2       2\n",
      "1104       1       1\n",
      "1106       3       3\n"
     ]
    },
    {
     "data": {
      "text/html": [
       "<div>\n",
       "<style scoped>\n",
       "    .dataframe tbody tr th:only-of-type {\n",
       "        vertical-align: middle;\n",
       "    }\n",
       "\n",
       "    .dataframe tbody tr th {\n",
       "        vertical-align: top;\n",
       "    }\n",
       "\n",
       "    .dataframe thead th {\n",
       "        text-align: right;\n",
       "    }\n",
       "</style>\n",
       "<table border=\"1\" class=\"dataframe\">\n",
       "  <thead>\n",
       "    <tr style=\"text-align: right;\">\n",
       "      <th></th>\n",
       "      <th>Weight</th>\n",
       "      <th>Height</th>\n",
       "    </tr>\n",
       "    <tr>\n",
       "      <th>ID</th>\n",
       "      <th></th>\n",
       "      <th></th>\n",
       "    </tr>\n",
       "  </thead>\n",
       "  <tbody>\n",
       "    <tr>\n",
       "      <th>1101</th>\n",
       "      <td>0</td>\n",
       "      <td>0</td>\n",
       "    </tr>\n",
       "    <tr>\n",
       "      <th>1102</th>\n",
       "      <td>4</td>\n",
       "      <td>4</td>\n",
       "    </tr>\n",
       "    <tr>\n",
       "      <th>1103</th>\n",
       "      <td>2</td>\n",
       "      <td>2</td>\n",
       "    </tr>\n",
       "    <tr>\n",
       "      <th>1104</th>\n",
       "      <td>1</td>\n",
       "      <td>1</td>\n",
       "    </tr>\n",
       "    <tr>\n",
       "      <th>1105</th>\n",
       "      <td>3</td>\n",
       "      <td>3</td>\n",
       "    </tr>\n",
       "  </tbody>\n",
       "</table>\n",
       "</div>"
      ],
      "text/plain": [
       "      Weight  Height\n",
       "ID                  \n",
       "1101       0       0\n",
       "1102       4       4\n",
       "1103       2       2\n",
       "1104       1       1\n",
       "1105       3       3"
      ]
     },
     "execution_count": 128,
     "metadata": {},
     "output_type": "execute_result"
    }
   ],
   "source": [
    "#【问题六】 索引设定中的所有方法分别适用于哪些场合？怎么直接把某个DataFrame的索引换成任意给定同长度的索引？\n",
    "#index_col    ：index_col是read_csv中的一个参数，而不是某一个方法。read新表时设定\n",
    "pd.read_csv('data/table.csv',index_col=['Address','School']).head()\n",
    "\n",
    "#包含着索引对齐的逻辑\n",
    "#reindex      ：reindex是指重新索引，它的重要特性在于索引对齐，很多时候用于索引间的重新排序。\n",
    "df = pd.read_csv('data/table.csv',index_col='ID').sort_index()\n",
    "df.reindex(index=[1101,1203,1204,1206,2402,1205],method='bfill')#填充方法method仅适用于已排序的index调整。填充在【原始】条件下执行\n",
    "df.sort_index().reindex(columns=['Average','Height','Gender']).head()#调整column不能填补\n",
    "#reindex_like ：生成一个横纵索引完全与参数列表一致的DataFrame，数据使用被调用的表\n",
    "df_temp = pd.DataFrame({'Weight':range(5),\n",
    "                        'Height':range(5),\n",
    "                        'ID':[1101,1104,1103,1106,1102]}).set_index('ID').sort_index()\n",
    "print('原始',df_temp)\n",
    "df_temp.reindex_like(df[0:5][['Weight','Height']],method='bfill')#原表index有序，这里的1105的值由bfill规则参照1106填充\n",
    "\n",
    "#Series级名称修改index\n",
    "#set_index    ：将某些列作为索引，使用表内列、与表长相同的Series列，支持直接添加多级索引。append=True保留原index。\n",
    "#reset_index  ：默认恢复自然数索引，用level参数指定哪一层index被reset，用col_level参数指定set到column的哪一层。\n",
    "\n",
    "#元素级名称修改，不改数据\n",
    "#rename_axis  ：针对多级索引的方法，作用是修改某一层的索引名，而不是索引标签。修改坐标轴名。\n",
    "#rename       ：修改列或者行索引标签，而不是索引名。修改坐标轴上的点名称。"
   ]
  },
  {
   "cell_type": "code",
   "execution_count": null,
   "metadata": {},
   "outputs": [],
   "source": [
    "#【问题七】 多级索引有什么适用场合？\n",
    "# 1、处理多级结构数据时，例如学生信息，年级-班级。索引较清晰。\n",
    "# 2、将某些离散feature转为多级索引，在结构上突出重要性。同时联合索引Slice可以灵活查询\n"
   ]
  },
  {
   "cell_type": "code",
   "execution_count": 129,
   "metadata": {},
   "outputs": [],
   "source": [
    "#【问题八】 什么时候需要重复元素处理？\n",
    "# 1、清洗数据时去掉多余重复数据；\n",
    "# 2、统计元素种类时\n",
    "# 3、透视表中交叉查询时"
   ]
  },
  {
   "cell_type": "markdown",
   "metadata": {},
   "source": [
    "### 2. 练习\n",
    "#### 【练习一】 现有一份关于UFO的数据集，请解决下列问题："
   ]
  },
  {
   "cell_type": "code",
   "execution_count": 350,
   "metadata": {},
   "outputs": [
    {
     "data": {
      "text/html": [
       "<div>\n",
       "<style scoped>\n",
       "    .dataframe tbody tr th:only-of-type {\n",
       "        vertical-align: middle;\n",
       "    }\n",
       "\n",
       "    .dataframe tbody tr th {\n",
       "        vertical-align: top;\n",
       "    }\n",
       "\n",
       "    .dataframe thead th {\n",
       "        text-align: right;\n",
       "    }\n",
       "</style>\n",
       "<table border=\"1\" class=\"dataframe\">\n",
       "  <thead>\n",
       "    <tr style=\"text-align: right;\">\n",
       "      <th></th>\n",
       "      <th>datetime</th>\n",
       "      <th>shape</th>\n",
       "      <th>duration (seconds)</th>\n",
       "      <th>latitude</th>\n",
       "      <th>longitude</th>\n",
       "    </tr>\n",
       "  </thead>\n",
       "  <tbody>\n",
       "    <tr>\n",
       "      <th>0</th>\n",
       "      <td>10/10/1949 20:30</td>\n",
       "      <td>cylinder</td>\n",
       "      <td>2700.0</td>\n",
       "      <td>29.883056</td>\n",
       "      <td>-97.941111</td>\n",
       "    </tr>\n",
       "    <tr>\n",
       "      <th>1</th>\n",
       "      <td>10/10/1949 21:00</td>\n",
       "      <td>light</td>\n",
       "      <td>7200.0</td>\n",
       "      <td>29.384210</td>\n",
       "      <td>-98.581082</td>\n",
       "    </tr>\n",
       "    <tr>\n",
       "      <th>2</th>\n",
       "      <td>10/10/1955 17:00</td>\n",
       "      <td>circle</td>\n",
       "      <td>20.0</td>\n",
       "      <td>53.200000</td>\n",
       "      <td>-2.916667</td>\n",
       "    </tr>\n",
       "    <tr>\n",
       "      <th>3</th>\n",
       "      <td>10/10/1956 21:00</td>\n",
       "      <td>circle</td>\n",
       "      <td>20.0</td>\n",
       "      <td>28.978333</td>\n",
       "      <td>-96.645833</td>\n",
       "    </tr>\n",
       "    <tr>\n",
       "      <th>4</th>\n",
       "      <td>10/10/1960 20:00</td>\n",
       "      <td>light</td>\n",
       "      <td>900.0</td>\n",
       "      <td>21.418056</td>\n",
       "      <td>-157.803611</td>\n",
       "    </tr>\n",
       "  </tbody>\n",
       "</table>\n",
       "</div>"
      ],
      "text/plain": [
       "           datetime     shape  duration (seconds)   latitude   longitude\n",
       "0  10/10/1949 20:30  cylinder              2700.0  29.883056  -97.941111\n",
       "1  10/10/1949 21:00     light              7200.0  29.384210  -98.581082\n",
       "2  10/10/1955 17:00    circle                20.0  53.200000   -2.916667\n",
       "3  10/10/1956 21:00    circle                20.0  28.978333  -96.645833\n",
       "4  10/10/1960 20:00     light               900.0  21.418056 -157.803611"
      ]
     },
     "execution_count": 350,
     "metadata": {},
     "output_type": "execute_result"
    }
   ],
   "source": [
    "df_ufo = pd.read_csv('data/UFO.csv')\n",
    "df_ufo.head()"
   ]
  },
  {
   "cell_type": "markdown",
   "metadata": {},
   "source": [
    "#### （a）在所有被观测时间超过60s的时间中，哪个形状最多？"
   ]
  },
  {
   "cell_type": "code",
   "execution_count": 358,
   "metadata": {},
   "outputs": [
    {
     "data": {
      "text/plain": [
       "'light'"
      ]
     },
     "execution_count": 358,
     "metadata": {},
     "output_type": "execute_result"
    }
   ],
   "source": [
    "df_ufo[df_ufo['duration (seconds)']>60]['shape'].value_counts().index[0]"
   ]
  },
  {
   "cell_type": "markdown",
   "metadata": {},
   "source": [
    "#### （b）对经纬度进行划分：-180°至180°以30°为一个划分，-90°至90°以18°为一个划分，请问哪个区域中报告的UFO事件数量最多？"
   ]
  },
  {
   "cell_type": "code",
   "execution_count": 383,
   "metadata": {},
   "outputs": [
    {
     "data": {
      "text/plain": [
       "(Interval(36, 54, closed='right'), Interval(-90, -60, closed='right'))"
      ]
     },
     "execution_count": 383,
     "metadata": {},
     "output_type": "execute_result"
    }
   ],
   "source": [
    "lon_interval = pd.cut(df_ufo['longitude'],bins=list(range(-180,181,30)))\n",
    "lat_interval = pd.cut(df_ufo['latitude'],bins=list(range(-90,91,18)))\n",
    "df_i = df_ufo.join(lon_interval,rsuffix='_interval').join(lat_interval,rsuffix='_interval')\n",
    "pd.Series(list(zip(df_i['latitude_interval'],df_i['longitude_interval']))).value_counts().index[0]"
   ]
  },
  {
   "cell_type": "markdown",
   "metadata": {},
   "source": [
    "#### 【练习二】 现有一份关于口袋妖怪的数据集，请解决下列问题："
   ]
  },
  {
   "cell_type": "code",
   "execution_count": 388,
   "metadata": {},
   "outputs": [
    {
     "data": {
      "text/html": [
       "<div>\n",
       "<style scoped>\n",
       "    .dataframe tbody tr th:only-of-type {\n",
       "        vertical-align: middle;\n",
       "    }\n",
       "\n",
       "    .dataframe tbody tr th {\n",
       "        vertical-align: top;\n",
       "    }\n",
       "\n",
       "    .dataframe thead th {\n",
       "        text-align: right;\n",
       "    }\n",
       "</style>\n",
       "<table border=\"1\" class=\"dataframe\">\n",
       "  <thead>\n",
       "    <tr style=\"text-align: right;\">\n",
       "      <th></th>\n",
       "      <th>#</th>\n",
       "      <th>Name</th>\n",
       "      <th>Type 1</th>\n",
       "      <th>Type 2</th>\n",
       "      <th>Total</th>\n",
       "      <th>HP</th>\n",
       "      <th>Attack</th>\n",
       "      <th>Defense</th>\n",
       "      <th>Sp. Atk</th>\n",
       "      <th>Sp. Def</th>\n",
       "      <th>Speed</th>\n",
       "      <th>Generation</th>\n",
       "      <th>Legendary</th>\n",
       "    </tr>\n",
       "  </thead>\n",
       "  <tbody>\n",
       "    <tr>\n",
       "      <th>795</th>\n",
       "      <td>719</td>\n",
       "      <td>Diancie</td>\n",
       "      <td>Rock</td>\n",
       "      <td>Fairy</td>\n",
       "      <td>600</td>\n",
       "      <td>50</td>\n",
       "      <td>100</td>\n",
       "      <td>150</td>\n",
       "      <td>100</td>\n",
       "      <td>150</td>\n",
       "      <td>50</td>\n",
       "      <td>6</td>\n",
       "      <td>True</td>\n",
       "    </tr>\n",
       "    <tr>\n",
       "      <th>796</th>\n",
       "      <td>719</td>\n",
       "      <td>DiancieMega Diancie</td>\n",
       "      <td>Rock</td>\n",
       "      <td>Fairy</td>\n",
       "      <td>700</td>\n",
       "      <td>50</td>\n",
       "      <td>160</td>\n",
       "      <td>110</td>\n",
       "      <td>160</td>\n",
       "      <td>110</td>\n",
       "      <td>110</td>\n",
       "      <td>6</td>\n",
       "      <td>True</td>\n",
       "    </tr>\n",
       "    <tr>\n",
       "      <th>797</th>\n",
       "      <td>720</td>\n",
       "      <td>HoopaHoopa Confined</td>\n",
       "      <td>Psychic</td>\n",
       "      <td>Ghost</td>\n",
       "      <td>600</td>\n",
       "      <td>80</td>\n",
       "      <td>110</td>\n",
       "      <td>60</td>\n",
       "      <td>150</td>\n",
       "      <td>130</td>\n",
       "      <td>70</td>\n",
       "      <td>6</td>\n",
       "      <td>True</td>\n",
       "    </tr>\n",
       "    <tr>\n",
       "      <th>798</th>\n",
       "      <td>720</td>\n",
       "      <td>HoopaHoopa Unbound</td>\n",
       "      <td>Psychic</td>\n",
       "      <td>Dark</td>\n",
       "      <td>680</td>\n",
       "      <td>80</td>\n",
       "      <td>160</td>\n",
       "      <td>60</td>\n",
       "      <td>170</td>\n",
       "      <td>130</td>\n",
       "      <td>80</td>\n",
       "      <td>6</td>\n",
       "      <td>True</td>\n",
       "    </tr>\n",
       "    <tr>\n",
       "      <th>799</th>\n",
       "      <td>721</td>\n",
       "      <td>Volcanion</td>\n",
       "      <td>Fire</td>\n",
       "      <td>Water</td>\n",
       "      <td>600</td>\n",
       "      <td>80</td>\n",
       "      <td>110</td>\n",
       "      <td>120</td>\n",
       "      <td>130</td>\n",
       "      <td>90</td>\n",
       "      <td>70</td>\n",
       "      <td>6</td>\n",
       "      <td>True</td>\n",
       "    </tr>\n",
       "  </tbody>\n",
       "</table>\n",
       "</div>"
      ],
      "text/plain": [
       "       #                 Name   Type 1 Type 2  Total  HP  Attack  Defense  \\\n",
       "795  719              Diancie     Rock  Fairy    600  50     100      150   \n",
       "796  719  DiancieMega Diancie     Rock  Fairy    700  50     160      110   \n",
       "797  720  HoopaHoopa Confined  Psychic  Ghost    600  80     110       60   \n",
       "798  720   HoopaHoopa Unbound  Psychic   Dark    680  80     160       60   \n",
       "799  721            Volcanion     Fire  Water    600  80     110      120   \n",
       "\n",
       "     Sp. Atk  Sp. Def  Speed  Generation  Legendary  \n",
       "795      100      150     50           6       True  \n",
       "796      160      110    110           6       True  \n",
       "797      150      130     70           6       True  \n",
       "798      170      130     80           6       True  \n",
       "799      130       90     70           6       True  "
      ]
     },
     "execution_count": 388,
     "metadata": {},
     "output_type": "execute_result"
    }
   ],
   "source": [
    "df_poke = pd.read_csv('data/Pokemon.csv')\n",
    "df_poke.tail()"
   ]
  },
  {
   "cell_type": "markdown",
   "metadata": {},
   "source": [
    "#### （a）双属性的Pokemon占总体比例的多少？"
   ]
  },
  {
   "cell_type": "code",
   "execution_count": 407,
   "metadata": {},
   "outputs": [
    {
     "data": {
      "text/plain": [
       "0.5175"
      ]
     },
     "execution_count": 407,
     "metadata": {},
     "output_type": "execute_result"
    }
   ],
   "source": [
    "#Pokemon的Type 1都非空，因此只需判断Type 2是否非空\n",
    "df_poke[df_poke['Type 2'].notna()].shape[0]/df_poke.shape[0]"
   ]
  },
  {
   "cell_type": "markdown",
   "metadata": {},
   "source": [
    "#### （b）在所有种族值（Total）不小于580的Pokemon中，非神兽（Legendary=False）的比例为多少？\n"
   ]
  },
  {
   "cell_type": "code",
   "execution_count": 412,
   "metadata": {},
   "outputs": [
    {
     "data": {
      "text/plain": [
       "0.4247787610619469"
      ]
     },
     "execution_count": 412,
     "metadata": {},
     "output_type": "execute_result"
    }
   ],
   "source": [
    "df_580 = df_poke[df_poke['Total']>=580] #提取种族值不小于580\n",
    "df_580[df_580['Legendary']==False].shape[0]/df_580.shape[0]"
   ]
  },
  {
   "cell_type": "markdown",
   "metadata": {},
   "source": [
    "#### （c）在第一属性为格斗系（Fighting）的Pokemon中，物攻排名前三高的是哪些？\n"
   ]
  },
  {
   "cell_type": "code",
   "execution_count": 429,
   "metadata": {},
   "outputs": [
    {
     "data": {
      "text/plain": [
       "498    LucarioMega Lucario\n",
       "594             Conkeldurr\n",
       "74                 Machamp\n",
       "Name: Name, dtype: object"
      ]
     },
     "execution_count": 429,
     "metadata": {},
     "output_type": "execute_result"
    }
   ],
   "source": [
    "df_poke[df_poke['Type 1']=='Fighting'].sort_values(by='Attack',ascending=False)['Name'][0:3]"
   ]
  },
  {
   "cell_type": "markdown",
   "metadata": {},
   "source": [
    "#### （d）请问六项种族指标（HP、物攻、特攻、物防、特防、速度）极差(每条数据内横向计算max-min)的均值最大的是哪个属性（只考虑第一属性，且均值是对属性而言）？\n"
   ]
  },
  {
   "cell_type": "code",
   "execution_count": 443,
   "metadata": {},
   "outputs": [
    {
     "data": {
      "text/plain": [
       "'Steel'"
      ]
     },
     "execution_count": 443,
     "metadata": {},
     "output_type": "execute_result"
    }
   ],
   "source": [
    "df_poke['range'] = df_poke.iloc[:,5:11].max(axis=1)-df_poke.iloc[:,5:11].min(axis=1)\n",
    "#第一句参考答案，用于理解题目：每条数据内六种参数横向计算极差max-min\n",
    "df_poke.groupby('Type 1').mean().sort_values(by='range',ascending=False).index[0]"
   ]
  },
  {
   "cell_type": "markdown",
   "metadata": {},
   "source": [
    "#### （e）哪个属性（只考虑第一属性）的神兽比例最高？该属性神兽的种族值(Total)也是最高的吗？"
   ]
  },
  {
   "cell_type": "code",
   "execution_count": 495,
   "metadata": {},
   "outputs": [
    {
     "data": {
      "text/plain": [
       "'Psychic'"
      ]
     },
     "execution_count": 495,
     "metadata": {},
     "output_type": "execute_result"
    }
   ],
   "source": [
    "#参考答案，计算的是哪个属性的神兽数量最多\n",
    "df_poke.query('Legendary == True')['Type 1'].value_counts(normalize=True).index[0]"
   ]
  },
  {
   "cell_type": "code",
   "execution_count": 494,
   "metadata": {},
   "outputs": [
    {
     "data": {
      "text/plain": [
       "Type 1\n",
       "Flying      0.500000\n",
       "Dragon      0.375000\n",
       "Psychic     0.245614\n",
       "Steel       0.148148\n",
       "Ground      0.125000\n",
       "Fire        0.096154\n",
       "Rock        0.090909\n",
       "Electric    0.090909\n",
       "Ice         0.083333\n",
       "Dark        0.064516\n",
       "Ghost       0.062500\n",
       "Fairy       0.058824\n",
       "Grass       0.042857\n",
       "Water       0.035714\n",
       "Normal      0.020408\n",
       "Fighting    0.000000\n",
       "Poison      0.000000\n",
       "Bug         0.000000\n",
       "Name: Legendary, dtype: float64"
      ]
     },
     "execution_count": 494,
     "metadata": {},
     "output_type": "execute_result"
    }
   ],
   "source": [
    "#如果理解为，哪个属性里神兽比例更高。最高的是Flying，神兽比例50%\n",
    "df_poke_all = df_poke.groupby('Type 1').count()['Legendary']\n",
    "df_poke_True   = df_poke[df_poke['Legendary'] == True].groupby('Type 1').count()['Legendary'].reindex(index=df_poke_all.index)\n",
    "df_poke_Tp  = df_poke_T.fillna(0)/df_poke_all\n",
    "df_poke_Tp.sort_values(ascending=False)"
   ]
  },
  {
   "cell_type": "code",
   "execution_count": 497,
   "metadata": {},
   "outputs": [
    {
     "data": {
      "text/plain": [
       "Type 1\n",
       "Normal      695.000000\n",
       "Ghost       680.000000\n",
       "Fairy       680.000000\n",
       "Water       675.000000\n",
       "Dragon      673.333333\n",
       "Ground      660.000000\n",
       "Dark        640.000000\n",
       "Psychic     638.571429\n",
       "Rock        615.000000\n",
       "Steel       610.000000\n",
       "Fire        608.000000\n",
       "Grass       593.333333\n",
       "Ice         580.000000\n",
       "Flying      580.000000\n",
       "Electric    580.000000\n",
       "Name: Total, dtype: float64"
      ]
     },
     "execution_count": 497,
     "metadata": {},
     "output_type": "execute_result"
    }
   ],
   "source": [
    "#第二问，比较哪个属性的神兽的Total均值最高\n",
    "df_poke[df_poke['Legendary'] == True].groupby('Type 1').mean()['Total'].sort_values(ascending=False)"
   ]
  }
 ],
 "metadata": {
  "kernelspec": {
   "display_name": "Python 3",
   "language": "python",
   "name": "python3"
  },
  "language_info": {
   "codemirror_mode": {
    "name": "ipython",
    "version": 3
   },
   "file_extension": ".py",
   "mimetype": "text/x-python",
   "name": "python",
   "nbconvert_exporter": "python",
   "pygments_lexer": "ipython3",
   "version": "3.7.6"
  }
 },
 "nbformat": 4,
 "nbformat_minor": 4
}
