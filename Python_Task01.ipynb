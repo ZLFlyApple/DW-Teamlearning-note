{
 "cells": [
  {
   "cell_type": "markdown",
   "metadata": {},
   "source": [
    "## Task01： 变量、运算符、数据类型及位运算(2天)\n",
    "\n",
    "### 理论部分\n",
    "\n",
    "- 了解python中基本的变量类型，运算符，及数据类型。  \n",
    "- 了解python的位运算。 \n",
    "\n"
   ]
  },
  {
   "cell_type": "markdown",
   "metadata": {},
   "source": [
    "### 练习部分\n",
    "\n",
    "#### 课后思考题  \n",
    "\n",
    "1. 怎样对python中的代码进行注释？\n",
    "    - \\# 注释整行。\n",
    "    - ''' ''' 或者 \"\"\" \"\"\" 表示区间注释，在三引号之间的所有内容被注释\n",
    "\n",
    "2. python有哪些运算符，这些运算符的优先级是怎样的？\n",
    "    - 算数、比较、逻辑、位、三元运算符。\n",
    "    - 运算符的优先级\n",
    "        - 一元运算符优于二元运算符。例如3 ** -2等价于3 ** (-2)。\n",
    "        - 先算术运算，后移位运算，最后位运算。例如 1 << 3 + 2 & 7等价于 (1 << (3 + 2)) & 7。\n",
    "        - 逻辑运算最后结合。例如3 < 4 and 4 < 5等价于(3 < 4) and (4 < 5)。\n",
    "\n",
    "3. python 中 is, is not 与 ==, != 的区别是什么？\n",
    "    - is, is not 对比的是两个变量的【内存地址】\n",
    "    - ==, != 对比的是两个变量的【值】\n",
    "    - 比较的两个变量，指向的都是地址不可变的类型（str等），那么is，is not 和 ==，！= 是完全等价的。\n",
    "    - 对比的两个变量，指向的是地址可变的类型（list，dict，tuple等），则两者是有区别的。\n",
    "\n",
    "4. python 中包含哪些数据类型？这些数据类型之间如何转换？\n",
    "    - 整型int 浮点float 布尔bool 字符串str。\n",
    "    \n",
    "#### leetcode练习题"
   ]
  },
  {
   "cell_type": "code",
   "execution_count": 16,
   "metadata": {},
   "outputs": [
    {
     "data": {
      "text/plain": [
       "4"
      ]
     },
     "execution_count": 16,
     "metadata": {},
     "output_type": "execute_result"
    }
   ],
   "source": [
    "#leetcode练习题:重复数字成对出现\n",
    "\n",
    "\"\"\"\n",
    "    Input file\n",
    "    example1: [2,2,1]\n",
    "    example2: [4,1,2,1,2]\n",
    "    Output file\n",
    "    result1: 1\n",
    "    result2: 4\n",
    "\"\"\"\n",
    "from math import log\n",
    "class Solution:\n",
    "    def singleNumber(self, nums):\n",
    "        a = 0\n",
    "        for i in nums:\n",
    "            a ^= (1<<i)\n",
    "        return int(log(a,2))\n",
    "        \n",
    "Solution().singleNumber(nums = [4,1,2,1,2])"
   ]
  },
  {
   "cell_type": "code",
   "execution_count": null,
   "metadata": {},
   "outputs": [],
   "source": []
  }
 ],
 "metadata": {
  "kernelspec": {
   "display_name": "Python 3",
   "language": "python",
   "name": "python3"
  },
  "language_info": {
   "codemirror_mode": {
    "name": "ipython",
    "version": 3
   },
   "file_extension": ".py",
   "mimetype": "text/x-python",
   "name": "python",
   "nbconvert_exporter": "python",
   "pygments_lexer": "ipython3",
   "version": "3.7.6"
  },
  "toc": {
   "base_numbering": 1,
   "nav_menu": {},
   "number_sections": true,
   "sideBar": true,
   "skip_h1_title": false,
   "title_cell": "Table of Contents",
   "title_sidebar": "Contents",
   "toc_cell": false,
   "toc_position": {},
   "toc_section_display": true,
   "toc_window_display": false
  }
 },
 "nbformat": 4,
 "nbformat_minor": 4
}
